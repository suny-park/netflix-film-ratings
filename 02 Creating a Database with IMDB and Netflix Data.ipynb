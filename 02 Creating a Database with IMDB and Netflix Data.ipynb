{
 "cells": [
  {
   "cell_type": "code",
   "execution_count": 1,
   "id": "dd127463-53f8-4230-b9a3-133163152357",
   "metadata": {},
   "outputs": [
    {
     "name": "stdout",
     "output_type": "stream",
     "text": [
      "Path to dataset files: /Users/sunyoungpark/.cache/kagglehub/datasets/ashirwadsangwan/imdb-dataset/versions/824\n"
     ]
    }
   ],
   "source": [
    "# Install dependencies as needed:\n",
    "# !pip install --upgrade kagglehub\n",
    "import kagglehub\n",
    "\n",
    "# Download latest version\n",
    "path = kagglehub.dataset_download(\"ashirwadsangwan/imdb-dataset/version/824\") # if already downloaded, will still give us the path\n",
    "\n",
    "print(\"Path to dataset files:\", path)"
   ]
  },
  {
   "cell_type": "code",
   "execution_count": 2,
   "id": "5e4eeb8c-4db4-4bb6-a23f-db9e1e17a414",
   "metadata": {},
   "outputs": [
    {
     "name": "stdout",
     "output_type": "stream",
     "text": [
      "total 16662144\n",
      "drwxr-xr-x@ 7 sunyoungpark  staff   224B Feb 26 09:27 \u001b[34m.\u001b[m\u001b[m\n",
      "drwxr-xr-x@ 3 sunyoungpark  staff    96B Feb 26 09:26 \u001b[34m..\u001b[m\u001b[m\n",
      "-rw-r--r--@ 1 sunyoungpark  staff   833M Feb 26 09:26 name.basics.tsv\n",
      "-rw-r--r--@ 1 sunyoungpark  staff   2.4G Feb 26 09:26 title.akas.tsv\n",
      "-rw-r--r--@ 1 sunyoungpark  staff   944M Feb 26 09:26 title.basics.tsv\n",
      "-rw-r--r--@ 1 sunyoungpark  staff   3.8G Feb 26 09:27 title.principals.tsv\n",
      "-rw-r--r--@ 1 sunyoungpark  staff    25M Feb 26 09:27 title.ratings.tsv\n"
     ]
    }
   ],
   "source": [
    "# check if the files are successfully downloaded in the said path\n",
    "!ls -alh $path"
   ]
  },
  {
   "cell_type": "markdown",
   "id": "2a9caeb2-afcf-4554-962a-f5e8828ce4f0",
   "metadata": {},
   "source": [
    "## We'll use two files that contain basic information and ratings for each title.\n",
    "Note: if the title matching is not successful with the titles in the basics file, try akas file where there is localized/original titles and language information which may help with matching.\n",
    "\n",
    "### title.basics.tsv.gz - Contains the following information for titles:\n",
    "- tconst (string) - alphanumeric unique identifier of the title.\n",
    "- titleType (string) – the type/format of the title (e.g. movie, short,\n",
    "tvseries, tvepisode, video, etc).\n",
    "- primaryTitle (string) – the more popular title / the title used by\n",
    "the filmmakers on promotional materials at the point of release.\n",
    "- originalTitle (string) - original title, in the original language.\n",
    "- isAdult (boolean) - 0: non-adult title; 1: adult title.\n",
    "- startYear (YYYY) – represents the release year of a title. In the\n",
    "case of TV Series, it is the series start year.\n",
    "- endYear (YYYY) – TV Series end year. for all other title types.\n",
    "- runtimeMinutes – primary runtime of the title, in minutes.\n",
    "- genres (string array) – includes up to three genres associated with\n",
    "the title.\n",
    "\n",
    "### title.ratings.tsv.gz – Contains the IMDb rating and votes information for titles:\n",
    "- tconst (string) - alphanumeric unique identifier of the title.\n",
    "- averageRating – weighted average of all the individual user ratings.\n",
    "- numVotes - number of votes the title has received."
   ]
  },
  {
   "cell_type": "markdown",
   "id": "1889f18c-e4cd-466a-b97e-95f3f69e1835",
   "metadata": {},
   "source": [
    "Load the two tsv files to dataframes and then write to a sqlite table."
   ]
  },
  {
   "cell_type": "code",
   "execution_count": 3,
   "id": "9e860329-3f6a-47b6-88f1-653d3bbe0e23",
   "metadata": {},
   "outputs": [],
   "source": [
    "import pandas as pd\n",
    "import os\n",
    "import sqlite3 \n",
    "\n",
    "# Connect to SQLite database \n",
    "conn = sqlite3.connect('films.db') \n",
    "\n",
    "# Create a cursor object \n",
    "cur = conn.cursor() "
   ]
  },
  {
   "cell_type": "code",
   "execution_count": 4,
   "id": "2a3de2f7-8995-42ce-bea3-4e87860be6e3",
   "metadata": {},
   "outputs": [
    {
     "name": "stderr",
     "output_type": "stream",
     "text": [
      "/var/folders/jw/vxfx89jd56b4v53tcjxvltfr0000gp/T/ipykernel_4621/361963138.py:2: DtypeWarning: Columns (4) have mixed types. Specify dtype option on import or set low_memory=False.\n",
      "  df_basics = pd.read_csv(os.path.join(path,'title.basics.tsv'), sep='\\t')\n"
     ]
    },
    {
     "name": "stdout",
     "output_type": "stream",
     "text": [
      "<class 'pandas.core.frame.DataFrame'>\n",
      "RangeIndex: 11470477 entries, 0 to 11470476\n",
      "Data columns (total 9 columns):\n",
      " #   Column          Dtype \n",
      "---  ------          ----- \n",
      " 0   tconst          string\n",
      " 1   titleType       string\n",
      " 2   primaryTitle    string\n",
      " 3   originalTitle   string\n",
      " 4   isAdult         object\n",
      " 5   startYear       string\n",
      " 6   endYear         string\n",
      " 7   runtimeMinutes  string\n",
      " 8   genres          string\n",
      "dtypes: object(1), string(8)\n",
      "memory usage: 787.6+ MB\n"
     ]
    }
   ],
   "source": [
    "# Load TSV file into a DataFrame, specifying tab as the separator\n",
    "df_basics = pd.read_csv(os.path.join(path,'title.basics.tsv'), sep='\\t')\n",
    "df_basics = df_basics.convert_dtypes()\n",
    "df_basics.info()"
   ]
  },
  {
   "cell_type": "code",
   "execution_count": 5,
   "id": "c4856e96-5f7b-43fa-bcd3-f2631a6e2e0a",
   "metadata": {
    "scrolled": true
   },
   "outputs": [
    {
     "name": "stdout",
     "output_type": "stream",
     "text": [
      "<class 'pandas.core.frame.DataFrame'>\n",
      "Index: 2650163 entries, 0 to 11470475\n",
      "Data columns (total 9 columns):\n",
      " #   Column          Dtype \n",
      "---  ------          ----- \n",
      " 0   tconst          string\n",
      " 1   titleType       string\n",
      " 2   primaryTitle    string\n",
      " 3   originalTitle   string\n",
      " 4   isAdult         bool  \n",
      " 5   startYear       Int64 \n",
      " 6   endYear         Int64 \n",
      " 7   runtimeMinutes  Int64 \n",
      " 8   genres          string\n",
      "dtypes: Int64(3), bool(1), string(5)\n",
      "memory usage: 192.1 MB\n"
     ]
    }
   ],
   "source": [
    "# Change data types to correct types\n",
    "df_basics['isAdult'] = df_basics['isAdult'].astype(bool)\n",
    "df_basics['startYear']=pd.to_numeric(df_basics['startYear'], errors='coerce')\n",
    "df_basics['endYear']=pd.to_numeric(df_basics['endYear'], errors='coerce')\n",
    "df_basics['runtimeMinutes']=pd.to_numeric(df_basics['runtimeMinutes'], errors='coerce')\n",
    "\n",
    "# Drop rows where titleType is 'tvEpisode' to reduce memory usage since we're only looking at movies\n",
    "df_basics = df_basics[df_basics['titleType']!='tvEpisode']\n",
    "\n",
    "# Check before saving to database\n",
    "df_basics.info()"
   ]
  },
  {
   "cell_type": "code",
   "execution_count": 6,
   "id": "412d43ad-264e-4873-b4cc-e06d1dc637fa",
   "metadata": {},
   "outputs": [
    {
     "name": "stdout",
     "output_type": "stream",
     "text": [
      "<class 'pandas.core.frame.DataFrame'>\n",
      "RangeIndex: 1537005 entries, 0 to 1537004\n",
      "Data columns (total 3 columns):\n",
      " #   Column         Non-Null Count    Dtype  \n",
      "---  ------         --------------    -----  \n",
      " 0   tconst         1537005 non-null  string \n",
      " 1   averageRating  1537005 non-null  Float64\n",
      " 2   numVotes       1537005 non-null  Int64  \n",
      "dtypes: Float64(1), Int64(1), string(1)\n",
      "memory usage: 38.1 MB\n"
     ]
    }
   ],
   "source": [
    "# Do the same with the ratings table\n",
    "# Load TSV file into a DataFrame, specifying tab as the separator\n",
    "df_ratings = pd.read_csv(os.path.join(path,'title.ratings.tsv'), sep='\\t')\n",
    "df_ratings = df_ratings.convert_dtypes()\n",
    "df_ratings.info()"
   ]
  },
  {
   "cell_type": "code",
   "execution_count": 7,
   "id": "ab29b999-e545-4079-8706-3669e051c04f",
   "metadata": {},
   "outputs": [
    {
     "data": {
      "text/plain": [
       "1537005"
      ]
     },
     "execution_count": 7,
     "metadata": {},
     "output_type": "execute_result"
    }
   ],
   "source": [
    "# Write the data to a sqlite table \n",
    "df_basics.to_sql('imdb_basics', conn, if_exists='replace', index=False) \n",
    "df_ratings.to_sql('imdb_ratings', conn, if_exists='replace', index=False) "
   ]
  },
  {
   "cell_type": "code",
   "execution_count": 8,
   "id": "8bde7ad1-0cd2-4a14-8604-f07393ac44a0",
   "metadata": {},
   "outputs": [
    {
     "name": "stdout",
     "output_type": "stream",
     "text": [
      "('tt0000001', 'short', 'Carmencita', 'Carmencita', 0, 1894, None, 1, 'Documentary,Short')\n",
      "('tt0000002', 'short', 'Le clown et ses chiens', 'Le clown et ses chiens', 0, 1892, None, 5, 'Animation,Short')\n",
      "('tt0000003', 'short', 'Poor Pierrot', 'Pauvre Pierrot', 0, 1892, None, 5, 'Animation,Comedy,Romance')\n",
      "('tt0000004', 'short', 'Un bon bock', 'Un bon bock', 0, 1892, None, 12, 'Animation,Short')\n",
      "('tt0000005', 'short', 'Blacksmith Scene', 'Blacksmith Scene', 0, 1893, None, 1, 'Short')\n",
      "('tt0000006', 'short', 'Chinese Opium Den', 'Chinese Opium Den', 0, 1894, None, 1, 'Short')\n",
      "('tt0000007', 'short', 'Corbett and Courtney Before the Kinetograph', 'Corbett and Courtney Before the Kinetograph', 0, 1894, None, 1, 'Short,Sport')\n",
      "('tt0000008', 'short', 'Edison Kinetoscopic Record of a Sneeze', 'Edison Kinetoscopic Record of a Sneeze', 0, 1894, None, 1, 'Documentary,Short')\n",
      "('tt0000009', 'movie', 'Miss Jerry', 'Miss Jerry', 0, 1894, None, 45, 'Romance')\n",
      "('tt0000010', 'short', 'Leaving the Factory', \"La sortie de l'usine Lumière à Lyon\", 0, 1895, None, 1, 'Documentary,Short')\n"
     ]
    }
   ],
   "source": [
    "# Check if basics dataframe was saved correctly by loading and pulling up first 10 entries\n",
    "query = \"\"\"\n",
    "        SELECT *\n",
    "        FROM imdb_basics\n",
    "        LIMIT 10;\n",
    "        \"\"\"\n",
    "for row in cur.execute(query): \n",
    "    print(row) "
   ]
  },
  {
   "cell_type": "code",
   "execution_count": 9,
   "id": "f315c8e4-61e9-44c2-87d3-e2b14c4fdd1e",
   "metadata": {},
   "outputs": [
    {
     "name": "stdout",
     "output_type": "stream",
     "text": [
      "('tt0000001', 5.7, 2133)\n",
      "('tt0000002', 5.5, 289)\n",
      "('tt0000003', 6.4, 2169)\n",
      "('tt0000004', 5.3, 184)\n",
      "('tt0000005', 6.2, 2896)\n",
      "('tt0000006', 5.0, 208)\n",
      "('tt0000007', 5.3, 901)\n",
      "('tt0000008', 5.4, 2280)\n",
      "('tt0000009', 5.3, 220)\n",
      "('tt0000010', 6.8, 7871)\n"
     ]
    }
   ],
   "source": [
    "# Check if ratings dataframe was saved correctly by loading and pulling up first 10 entries\n",
    "query = \"\"\"\n",
    "        SELECT *\n",
    "        FROM imdb_ratings\n",
    "        LIMIT 10;\n",
    "        \"\"\"\n",
    "for row in cur.execute(query): \n",
    "    print(row) "
   ]
  },
  {
   "cell_type": "markdown",
   "id": "8690c454-bd0f-491f-b5ff-2394f970d1b3",
   "metadata": {},
   "source": [
    "### Let's load Netflix original film list and add to the database"
   ]
  },
  {
   "cell_type": "markdown",
   "id": "8e156381-ac0c-42e6-876e-b8b523d785ad",
   "metadata": {},
   "source": [
    "First, I want to add the netflix data to the database so we can access everything from one place in the future."
   ]
  },
  {
   "cell_type": "code",
   "execution_count": 10,
   "id": "ec09fa89-b6c3-4738-a37e-ebd4aa8d676c",
   "metadata": {},
   "outputs": [],
   "source": [
    "# Load TSV file into a DataFrame, specifying tab as the separator\n",
    "df_netflix = pd.read_csv('netflix_og_films.csv')\n",
    "# Fix the column names before writing to the database to follow SQL syntax\n",
    "df_netflix.rename(columns={'Title': 'title', 'Release date': 'releaseDate', \n",
    "                   'Genre':'genre','Runtime':'runtime','Language':'language','Film type':'filmType'}, inplace=True)"
   ]
  },
  {
   "cell_type": "markdown",
   "id": "97fecd57-e932-497f-845b-217f5eadf6f9",
   "metadata": {},
   "source": [
    "Before we save this dataframe into the database, I want to convert runtime ('x h x min') to minutes, so that we can use this as an additional constraint when matching the title of the films to IMDB."
   ]
  },
  {
   "cell_type": "code",
   "execution_count": 11,
   "id": "8af65462-92cb-4735-922a-952f1fb849ca",
   "metadata": {},
   "outputs": [],
   "source": [
    "def hm2m(time_str):\n",
    "    \"\"\"a function to convert runtime to minutes\"\"\"\n",
    "    cuml_min = 0\n",
    "    if time_str.find('h')>0:\n",
    "        h_pos = time_str.find('h')\n",
    "        cuml_min += int(time_str[:h_pos-1])*60\n",
    "        time_str = time_str[h_pos+2:]\n",
    "    \n",
    "    if time_str.find('min')>0:\n",
    "        m_pos = time_str.find('min')\n",
    "        cuml_min += int(time_str[:m_pos-1])\n",
    "        \n",
    "    return cuml_min"
   ]
  },
  {
   "cell_type": "code",
   "execution_count": 12,
   "id": "3156391d-f29c-42b6-87e7-ecf479ba4d45",
   "metadata": {},
   "outputs": [
    {
     "data": {
      "text/html": [
       "<div>\n",
       "<style scoped>\n",
       "    .dataframe tbody tr th:only-of-type {\n",
       "        vertical-align: middle;\n",
       "    }\n",
       "\n",
       "    .dataframe tbody tr th {\n",
       "        vertical-align: top;\n",
       "    }\n",
       "\n",
       "    .dataframe thead th {\n",
       "        text-align: right;\n",
       "    }\n",
       "</style>\n",
       "<table border=\"1\" class=\"dataframe\">\n",
       "  <thead>\n",
       "    <tr style=\"text-align: right;\">\n",
       "      <th></th>\n",
       "      <th>title</th>\n",
       "      <th>releaseDate</th>\n",
       "      <th>genre</th>\n",
       "      <th>runtime</th>\n",
       "      <th>language</th>\n",
       "      <th>filmType</th>\n",
       "      <th>runtime_min</th>\n",
       "    </tr>\n",
       "  </thead>\n",
       "  <tbody>\n",
       "    <tr>\n",
       "      <th>0</th>\n",
       "      <td>Beasts of No Nation</td>\n",
       "      <td>October 16, 2015</td>\n",
       "      <td>War drama</td>\n",
       "      <td>2 h 17 min</td>\n",
       "      <td>English</td>\n",
       "      <td>Feature films</td>\n",
       "      <td>137</td>\n",
       "    </tr>\n",
       "    <tr>\n",
       "      <th>1</th>\n",
       "      <td>The Ridiculous 6</td>\n",
       "      <td>December 11, 2015</td>\n",
       "      <td>Western comedy</td>\n",
       "      <td>2 h</td>\n",
       "      <td>English</td>\n",
       "      <td>Feature films</td>\n",
       "      <td>120</td>\n",
       "    </tr>\n",
       "    <tr>\n",
       "      <th>2</th>\n",
       "      <td>Pee-wee's Big Holiday</td>\n",
       "      <td>March 18, 2016</td>\n",
       "      <td>Adventure comedy</td>\n",
       "      <td>1 h 30 min</td>\n",
       "      <td>English</td>\n",
       "      <td>Feature films</td>\n",
       "      <td>90</td>\n",
       "    </tr>\n",
       "    <tr>\n",
       "      <th>3</th>\n",
       "      <td>Special Correspondents</td>\n",
       "      <td>April 29, 2016</td>\n",
       "      <td>Satire</td>\n",
       "      <td>1 h 41 min</td>\n",
       "      <td>English</td>\n",
       "      <td>Feature films</td>\n",
       "      <td>101</td>\n",
       "    </tr>\n",
       "    <tr>\n",
       "      <th>4</th>\n",
       "      <td>The Do-Over</td>\n",
       "      <td>May 27, 2016</td>\n",
       "      <td>Action comedy</td>\n",
       "      <td>1 h 48 min</td>\n",
       "      <td>English</td>\n",
       "      <td>Feature films</td>\n",
       "      <td>108</td>\n",
       "    </tr>\n",
       "  </tbody>\n",
       "</table>\n",
       "</div>"
      ],
      "text/plain": [
       "                    title        releaseDate             genre     runtime  \\\n",
       "0     Beasts of No Nation   October 16, 2015         War drama  2 h 17 min   \n",
       "1        The Ridiculous 6  December 11, 2015    Western comedy         2 h   \n",
       "2   Pee-wee's Big Holiday     March 18, 2016  Adventure comedy  1 h 30 min   \n",
       "3  Special Correspondents     April 29, 2016            Satire  1 h 41 min   \n",
       "4             The Do-Over       May 27, 2016     Action comedy  1 h 48 min   \n",
       "\n",
       "  language       filmType  runtime_min  \n",
       "0  English  Feature films          137  \n",
       "1  English  Feature films          120  \n",
       "2  English  Feature films           90  \n",
       "3  English  Feature films          101  \n",
       "4  English  Feature films          108  "
      ]
     },
     "execution_count": 12,
     "metadata": {},
     "output_type": "execute_result"
    }
   ],
   "source": [
    "# Convert runtime that's in X h X min to minutes\n",
    "df_netflix = df_netflix.convert_dtypes() # convert to string first\n",
    "df_netflix['runtime_min']=df_netflix['runtime'].apply(hm2m) # apply the above function to the runtime column\n",
    "df_netflix.head() # check if it worked correctly"
   ]
  },
  {
   "cell_type": "code",
   "execution_count": 28,
   "id": "644a7ddd-f2d7-44c4-91c1-25012354bdc7",
   "metadata": {},
   "outputs": [],
   "source": [
    "df_netflix['releaseYear'] = df_netflix['releaseDate'].str[-4:].astype(int)"
   ]
  },
  {
   "cell_type": "code",
   "execution_count": 29,
   "id": "efe3d9ae-1f0a-4939-99ec-2fda33b8f82d",
   "metadata": {},
   "outputs": [
    {
     "data": {
      "text/html": [
       "<div>\n",
       "<style scoped>\n",
       "    .dataframe tbody tr th:only-of-type {\n",
       "        vertical-align: middle;\n",
       "    }\n",
       "\n",
       "    .dataframe tbody tr th {\n",
       "        vertical-align: top;\n",
       "    }\n",
       "\n",
       "    .dataframe thead th {\n",
       "        text-align: right;\n",
       "    }\n",
       "</style>\n",
       "<table border=\"1\" class=\"dataframe\">\n",
       "  <thead>\n",
       "    <tr style=\"text-align: right;\">\n",
       "      <th></th>\n",
       "      <th>title</th>\n",
       "      <th>releaseDate</th>\n",
       "      <th>genre</th>\n",
       "      <th>runtime</th>\n",
       "      <th>language</th>\n",
       "      <th>filmType</th>\n",
       "      <th>runtime_min</th>\n",
       "      <th>releaseYear</th>\n",
       "    </tr>\n",
       "  </thead>\n",
       "  <tbody>\n",
       "    <tr>\n",
       "      <th>0</th>\n",
       "      <td>Beasts of No Nation</td>\n",
       "      <td>October 16, 2015</td>\n",
       "      <td>War drama</td>\n",
       "      <td>2 h 17 min</td>\n",
       "      <td>English</td>\n",
       "      <td>Feature films</td>\n",
       "      <td>137</td>\n",
       "      <td>2015</td>\n",
       "    </tr>\n",
       "    <tr>\n",
       "      <th>1</th>\n",
       "      <td>The Ridiculous 6</td>\n",
       "      <td>December 11, 2015</td>\n",
       "      <td>Western comedy</td>\n",
       "      <td>2 h</td>\n",
       "      <td>English</td>\n",
       "      <td>Feature films</td>\n",
       "      <td>120</td>\n",
       "      <td>2015</td>\n",
       "    </tr>\n",
       "    <tr>\n",
       "      <th>2</th>\n",
       "      <td>Pee-wee's Big Holiday</td>\n",
       "      <td>March 18, 2016</td>\n",
       "      <td>Adventure comedy</td>\n",
       "      <td>1 h 30 min</td>\n",
       "      <td>English</td>\n",
       "      <td>Feature films</td>\n",
       "      <td>90</td>\n",
       "      <td>2016</td>\n",
       "    </tr>\n",
       "    <tr>\n",
       "      <th>3</th>\n",
       "      <td>Special Correspondents</td>\n",
       "      <td>April 29, 2016</td>\n",
       "      <td>Satire</td>\n",
       "      <td>1 h 41 min</td>\n",
       "      <td>English</td>\n",
       "      <td>Feature films</td>\n",
       "      <td>101</td>\n",
       "      <td>2016</td>\n",
       "    </tr>\n",
       "    <tr>\n",
       "      <th>4</th>\n",
       "      <td>The Do-Over</td>\n",
       "      <td>May 27, 2016</td>\n",
       "      <td>Action comedy</td>\n",
       "      <td>1 h 48 min</td>\n",
       "      <td>English</td>\n",
       "      <td>Feature films</td>\n",
       "      <td>108</td>\n",
       "      <td>2016</td>\n",
       "    </tr>\n",
       "  </tbody>\n",
       "</table>\n",
       "</div>"
      ],
      "text/plain": [
       "                    title        releaseDate             genre     runtime  \\\n",
       "0     Beasts of No Nation   October 16, 2015         War drama  2 h 17 min   \n",
       "1        The Ridiculous 6  December 11, 2015    Western comedy         2 h   \n",
       "2   Pee-wee's Big Holiday     March 18, 2016  Adventure comedy  1 h 30 min   \n",
       "3  Special Correspondents     April 29, 2016            Satire  1 h 41 min   \n",
       "4             The Do-Over       May 27, 2016     Action comedy  1 h 48 min   \n",
       "\n",
       "  language       filmType  runtime_min  releaseYear  \n",
       "0  English  Feature films          137         2015  \n",
       "1  English  Feature films          120         2015  \n",
       "2  English  Feature films           90         2016  \n",
       "3  English  Feature films          101         2016  \n",
       "4  English  Feature films          108         2016  "
      ]
     },
     "execution_count": 29,
     "metadata": {},
     "output_type": "execute_result"
    }
   ],
   "source": [
    "df_netflix.head()"
   ]
  },
  {
   "cell_type": "code",
   "execution_count": 30,
   "id": "f588b9fb-e39d-4801-bde6-dbb9b7816568",
   "metadata": {},
   "outputs": [
    {
     "name": "stdout",
     "output_type": "stream",
     "text": [
      "<class 'pandas.core.frame.DataFrame'>\n",
      "RangeIndex: 1413 entries, 0 to 1412\n",
      "Data columns (total 8 columns):\n",
      " #   Column       Non-Null Count  Dtype \n",
      "---  ------       --------------  ----- \n",
      " 0   title        1413 non-null   string\n",
      " 1   releaseDate  1413 non-null   string\n",
      " 2   genre        1065 non-null   string\n",
      " 3   runtime      1413 non-null   string\n",
      " 4   language     1413 non-null   string\n",
      " 5   filmType     1413 non-null   string\n",
      " 6   runtime_min  1413 non-null   int64 \n",
      " 7   releaseYear  1413 non-null   int64 \n",
      "dtypes: int64(2), string(6)\n",
      "memory usage: 88.4 KB\n"
     ]
    }
   ],
   "source": [
    "df_netflix.info()"
   ]
  },
  {
   "cell_type": "code",
   "execution_count": 32,
   "id": "ed9581a1-e73e-4ee5-a761-fa7cec4d96eb",
   "metadata": {},
   "outputs": [
    {
     "data": {
      "text/plain": [
       "1413"
      ]
     },
     "execution_count": 32,
     "metadata": {},
     "output_type": "execute_result"
    }
   ],
   "source": [
    "# Write the data to a sqlite table \n",
    "df_netflix.to_sql('netflix', conn, if_exists='replace', index=False) "
   ]
  },
  {
   "cell_type": "code",
   "execution_count": 33,
   "id": "a060de33-b66e-49d9-830b-af3b9d2faddb",
   "metadata": {},
   "outputs": [
    {
     "name": "stdout",
     "output_type": "stream",
     "text": [
      "['title', 'releaseDate', 'genre', 'runtime', 'language', 'filmType', 'runtime_min', 'releaseYear']\n",
      "('Beasts of No Nation', 'October 16, 2015', 'War drama', '2 h 17 min', 'English', 'Feature films', 137, 2015)\n",
      "('The Ridiculous 6', 'December 11, 2015', 'Western comedy', '2 h', 'English', 'Feature films', 120, 2015)\n",
      "(\"Pee-wee's Big Holiday\", 'March 18, 2016', 'Adventure comedy', '1 h 30 min', 'English', 'Feature films', 90, 2016)\n",
      "('Special Correspondents', 'April 29, 2016', 'Satire', '1 h 41 min', 'English', 'Feature films', 101, 2016)\n",
      "('The Do-Over', 'May 27, 2016', 'Action comedy', '1 h 48 min', 'English', 'Feature films', 108, 2016)\n",
      "('The Fundamentals of Caring', 'June 24, 2016', 'Comedy drama', '1 h 37 min', 'English', 'Feature films', 97, 2016)\n",
      "('Brahman Naman', 'July 7, 2016', 'Sex comedy', '1 h 35 min', 'English', 'Feature films', 95, 2016)\n",
      "('Rebirth', 'July 15, 2016', 'Thriller', '1 h 40 min', 'English', 'Feature films', 100, 2016)\n",
      "('Tallulah', 'July 29, 2016', 'Comedy drama', '1 h 51 min', 'English', 'Feature films', 111, 2016)\n",
      "('XOXO', 'August 26, 2016', 'Drama', '1 h 32 min', 'English', 'Feature films', 92, 2016)\n"
     ]
    }
   ],
   "source": [
    "# Read in data and list the column names and the first 10 entries\n",
    "query = \"\"\"\n",
    "        SELECT *\n",
    "        FROM netflix\n",
    "        LIMIT 10;\n",
    "        \"\"\"\n",
    "out = cur.execute(query)\n",
    "names = list(map(lambda x: x[0], cur.description))\n",
    "print(names)\n",
    "for row in out: \n",
    "    print(row) "
   ]
  },
  {
   "cell_type": "markdown",
   "id": "b565d985-5039-4058-8a12-538f31dac3b0",
   "metadata": {},
   "source": [
    "Close out the connection to SQLite database"
   ]
  },
  {
   "cell_type": "code",
   "execution_count": 7,
   "id": "fab31f26-fdab-49b3-a0c9-24fc8f999590",
   "metadata": {},
   "outputs": [],
   "source": [
    "# Close connection to SQLite database \n",
    "conn.close() "
   ]
  }
 ],
 "metadata": {
  "kernelspec": {
   "display_name": "Python 3 (ipykernel)",
   "language": "python",
   "name": "python3"
  },
  "language_info": {
   "codemirror_mode": {
    "name": "ipython",
    "version": 3
   },
   "file_extension": ".py",
   "mimetype": "text/x-python",
   "name": "python",
   "nbconvert_exporter": "python",
   "pygments_lexer": "ipython3",
   "version": "3.12.9"
  }
 },
 "nbformat": 4,
 "nbformat_minor": 5
}
