{
 "cells": [
  {
   "cell_type": "markdown",
   "id": "a32c675d-4be6-4aea-a8e1-367cd945d29d",
   "metadata": {},
   "source": [
    "### Before combining all data, I want to check how many matches to the Netflix data we can get with the Rotten Tomatoes and Letterboxd data, separately.\n",
    "\n",
    "Below are the fields of the tables saved in the database.\n",
    "\n",
    "### netflix – Contains the Netflix original film list (webscraped from Wikipedia):\n",
    "- title (string) - official Netflix title\n",
    "- releaseDate (string) - release date in '{month} {day}, {year}' format (e.g. 'October 16, 2015') \n",
    "- genre - main genre\n",
    "- runtime - runtime of the flim in '{hour} h {minute} min' format (e.g. '1 h 40 min')\n",
    "- language - main langauge of the film\n",
    "- filmType - type of the film (e.g. feature film, documentary, special, etc)\n",
    "- runtime_min - runtime converted to minutes\n",
    "\n",
    "### rotten_tomatoes\n",
    "- id (string) - Unique identifier for each movie\n",
    "- title - The title of the movie\n",
    "- audienceScore - The average score given by regular viewers (0-100)\n",
    "- tomatoMeter - The percentage of positive reviews from professional critics (0-100)\n",
    "- rating - The movie's age-based classification (e.g., G, PG, PG-13, R)\n",
    "- ratingContents - Content leading to the rating classification\n",
    "- releaseDateTheaters - The date the movie was released in theaters\n",
    "- releaseDateStreaming - The date the movie became available for streaming\n",
    "- runtimeMinutes - The duration of the movie in minutes\n",
    "- genre - The movie's genre(s)\n",
    "- originalLanguage - The original language of the movie\n",
    "- director - The movie's director\n",
    "- writer - The writer(s) responsible for the movie's screenplay\n",
    "- boxOffice - The movie's total box office revenue\n",
    "- distributer - The company responsible for distributing the movie\n",
    "- soundMix - The audio format(s) used in the movie\n",
    "- releaseYearEarlier - The year the movie was released, either in theaters or on a streaming service, whichever is earlier\n",
    "\n",
    "### letterboxd\n",
    "- id - unique identifier for each movie\n",
    "- name - title of the movie\n",
    "- date - release year of the movie\n",
    "- minute - runtime in minutes\n",
    "- rating - rating on letterboxd"
   ]
  },
  {
   "cell_type": "code",
   "execution_count": 1,
   "id": "59838488-2114-4307-9c75-a6107b4304d8",
   "metadata": {},
   "outputs": [],
   "source": [
    "import pandas as pd\n",
    "import os\n",
    "import sqlite3 \n",
    "\n",
    "# Connect to SQLite database \n",
    "conn = sqlite3.connect('films.db') \n",
    "\n",
    "# Create a cursor object \n",
    "cur = conn.cursor() "
   ]
  },
  {
   "cell_type": "code",
   "execution_count": 2,
   "id": "ef8b59a8-f5d9-4e7b-9edf-70eeca88cccd",
   "metadata": {
    "scrolled": true
   },
   "outputs": [
    {
     "name": "stdout",
     "output_type": "stream",
     "text": [
      "['id', 'title', 'audienceScore', 'tomatoMeter', 'rating', 'ratingContents', 'releaseDateTheaters', 'releaseDateStreaming', 'runtimeMinutes', 'genre', 'originalLanguage', 'director', 'writer', 'boxOffice', 'distributor', 'soundMix', 'releaseYearEarlier']\n",
      "('space-zombie-bingo', 'Space Zombie Bingo!', 50, None, None, None, None, '2018-08-25', 75, 'Comedy, Horror, Sci-fi', 'English', 'George Ormrod', 'George Ormrod,John Sabotta', None, None, None, 2018.0)\n",
      "('love_lies', 'Love, Lies', 43, None, None, None, None, None, 120, 'Drama', 'Korean', 'Park Heung-Sik,Heung-Sik Park', 'Ha Young-Joon,Jeon Yun-su,Song Hye-jin', None, None, None, None)\n",
      "('the_sore_losers_1997', 'Sore Losers', 60, None, None, None, None, '2020-10-23', 90, 'Action, Mystery & thriller', 'English', 'John Michael McCarthy', 'John Michael McCarthy', None, None, None, 2020.0)\n",
      "('dinosaur_island_2002', 'Dinosaur Island', 70, None, None, None, None, '2017-03-27', 80, 'Fantasy, Adventure, Animation', 'English', 'Will Meugniot', 'John Loy', None, None, None, 2017.0)\n",
      "('adrift_2018', 'Adrift', 65, 69, 'PG-13', \"['Injury Images', 'Brief Drug Use', 'Thematic Elements', 'Language', 'Partial Nudity', 'Peril']\", '2018-06-01', '2018-08-21', 120, 'Adventure, Drama, Romance', 'English', 'Baltasar Kormákur', 'Aaron Kandell,Jordan Kandell,David Branson Smith', '$31.4M', 'STX Films', None, 2018.0)\n",
      "('malta-con-huevo-scrambled-beer', 'Scrambled Beer', 55, None, None, None, None, '2015-10-05', 88, 'Comedy', 'Spanish', 'Cristobal Valderrama', 'Cristobal Valderrama', None, None, None, 2015.0)\n",
      "('kakabakaba-ka-ba', 'Kakabakaba ka ba? (Will Your Heart Beat Faster?)', 88, None, None, None, None, None, None, None, None, 'Mike de Leon', None, None, None, None, None)\n",
      "('1035316-born_to_kill', 'Born to Kill', 74, 83, None, None, '1947-04-30', '2016-05-23', 92, 'Crime, Drama', 'English', 'Robert Wise', 'Eve Greene,Richard Macaulay', None, None, None, 1947.0)\n",
      "('1015331-number_one_with_a_bullet', 'Number One With a Bullet', 19, None, None, None, None, '2012-03-13', 103, 'Crime, Drama', 'English', 'Jack Smight', None, None, None, None, 2012.0)\n",
      "('margarita_happy_hour', 'Margarita Happy Hour', None, 76, None, None, '2002-03-22', None, 98, 'Drama', 'English', 'Ilya Chaiken', 'Ilya Chaiken', '$11.5K', 'Passport Pictures', 'Surround', 2002.0)\n"
     ]
    }
   ],
   "source": [
    "# Check if rotten_tomatoes dataframe was saved correctly by loading and pulling up first 10 entries\n",
    "query = \"\"\"\n",
    "        SELECT *\n",
    "        FROM rotten_tomatoes\n",
    "        LIMIT 10;\n",
    "        \"\"\"\n",
    "# print column names\n",
    "out = cur.execute(query)\n",
    "names = list(map(lambda x: x[0], cur.description))\n",
    "print(names)\n",
    "for row in out: \n",
    "    print(row) "
   ]
  },
  {
   "cell_type": "markdown",
   "id": "3700bcf2-29f7-4089-87b0-e817b8140b99",
   "metadata": {},
   "source": [
    "Let's try joining netflix and rotten_tomatoes table on the title. Starting with the least constraint to see how many matches just based on title we can get."
   ]
  },
  {
   "cell_type": "code",
   "execution_count": 33,
   "id": "6dbb3500-efdf-48ca-ac8a-89faf7c71659",
   "metadata": {
    "scrolled": true
   },
   "outputs": [
    {
     "name": "stdout",
     "output_type": "stream",
     "text": [
      "['id', 'title', 'releaseDate', 'genre', 'runtime', 'language', 'filmType', 'runtime_min', 'releaseYear', 'id', 'title', 'audienceScore', 'tomatoMeter', 'rating', 'ratingContents', 'releaseDateTheaters', 'releaseDateStreaming', 'runtimeMinutes', 'genre', 'originalLanguage', 'director', 'writer', 'boxOffice', 'distributor', 'soundMix', 'releaseYearEarlier']\n",
      "(132, 'Cargo', 'May 18, 2018', 'Drama / Horror', '1 h 44 min', 'English', 'Feature films', 104, 2018, 'cargo_2017', 'Cargo', None, 60, None, None, '2019-05-30', '2018-02-09', 112, 'Drama', 'English', 'Kareem Mortimer', 'Kareem Mortimer', None, 'Artist Rights Distribution', None, 2018.0)\n",
      "(218, 'Triple Frontier', 'March 13, 2019', 'Action-adventure', '2 h 5 min', 'English', 'Feature films', 125, 2019, 'triple_frontier', 'Triple Frontier', 55, 70, 'R', \"['Language Throughout', 'Violence']\", '2019-03-06', '2019-03-15', 125, 'Action, Adventure, Mystery & thriller', 'English', 'J.C. Chandor', 'Mark Boal,J.C. Chandor', None, 'Netflix', None, 2019.0)\n",
      "(221, 'The Highwaymen', 'March 29, 2019', 'Crime drama', '2 h 12 min', 'English', 'Feature films', 132, 2019, 'the_highwaymen', 'The Highwaymen', 74, 58, 'R', \"['Bloody Images', 'Some Strong Violence']\", '2019-03-29', '2019-03-30', 132, 'Crime, Drama', 'English', 'John Lee Hancock', 'John Fusco', None, 'Netflix', None, 2019.0)\n",
      "(231, 'Good Sam', 'May 16, 2019', 'Drama', '1 h 30 min', 'English', 'Feature films', 90, 2019, 'good_sam_2019', 'Good Sam', 61, 50, None, None, None, '2019-05-16', 89, 'Comedy', 'English', 'Kate Melville', 'Teena Booth,Dete Meserve', None, None, None, 2019.0)\n",
      "(235, 'Always Be My Maybe', 'May 31, 2019', 'Romantic comedy', '1 h 42 min', 'English', 'Feature films', 102, 2019, 'always_be_my_maybe', 'Always Be My Maybe', 67, None, None, None, None, '2019-03-15', 112, 'Romance', 'English', 'Dan Villegas', None, '$113.0K', None, None, 2019.0)\n",
      "(317, 'Lorena, Light-Footed Woman', 'November 20, 2019', None, '28 min', 'Spanish', 'Documentaries', 28, 2019, 'lorena_light_footed_woman', 'Lorena, Light-footed Woman', 67, None, None, None, None, '2019-11-20', 28, 'Documentary', 'Spanish', 'Juan Carlos Rulfo', None, None, None, None, 2019.0)\n",
      "(395, \"Class of '83\", 'August 21, 2020', 'Crime / Drama', '1 h 38 min', 'Hindi', 'Feature films', 98, 2020, 'class_of_83', \"Class of '83\", 43, 17, None, None, None, '2020-08-22', 98, 'Crime, Drama', 'Hindi', 'Atul Sabharwal', None, None, None, None, 2020.0)\n",
      "(463, 'Becoming', 'May 6, 2020', None, '1 h 29 min', 'English', 'Documentaries', 89, 2020, 'becoming_2020', 'Becoming', 28, None, None, None, None, '2020-03-05', 98, 'Sci-fi, Mystery & thriller', 'English', 'Omar Naim', 'Omar Naim', None, None, None, 2020.0)\n",
      "(469, 'Mucho Mucho Amor: The Legend of Walter Mercado', 'July 8, 2020', None, '1 h 36 min', 'English', 'Documentaries', 96, 2020, 'mucho_mucho_amor', 'Mucho Mucho Amor: The Legend of Walter Mercado', 91, 100, None, None, None, '2020-07-08', 96, 'Documentary', 'English', 'Cristina Constantini,Kareem Tabsch', None, None, None, None, 2020.0)\n",
      "(961, 'Ivy + Bean', 'September 2, 2022', 'Family', '57 min', 'English', 'Specials', 57, 2022, 'ivy_and_bean', 'Ivy + Bean', 93, None, None, None, None, '2022-09-02', 56, 'Kids & family, Comedy', 'English', 'Elissa Down', 'Jeff Stockwell,Kathy Waugh', None, None, None, 2022.0)\n",
      "(989, 'Your Place or Mine', 'February 10, 2023', 'Romantic comedy', '1 h 51 min', 'English', 'Feature films', 111, 2023, 'your_place_or_mine_2023', 'Your Place or Mine', 37, 31, 'PG-13', \"['Brief Strong Language', 'Suggestive Material']\", '2023-02-10', '2023-02-10', 109, 'Romance, Comedy', 'English', 'Aline Brosh McKenna', 'Aline Brosh McKenna', None, 'Netflix', None, 2023.0)\n"
     ]
    }
   ],
   "source": [
    "# Joining on title, year, and language and checking how many non-unique entries we get\n",
    "query = \"\"\"\n",
    "        SELECT *\n",
    "        FROM netflix AS n\n",
    "        INNER JOIN rotten_tomatoes AS r\n",
    "        ON LOWER(n.title) = LOWER(r.title) AND n.releaseYear = r.releaseYearEarlier AND n.language = r.originalLanguage\n",
    "        GROUP BY n.id\n",
    "        HAVING COUNT(*) > 1;\n",
    "        \"\"\"\n",
    "\n",
    "# print column names\n",
    "out = cur.execute(query)\n",
    "names = list(map(lambda x: x[0], cur.description))\n",
    "print(names)\n",
    "\n",
    "for row in out: \n",
    "    print(row) "
   ]
  },
  {
   "cell_type": "code",
   "execution_count": 35,
   "id": "201d49bf-8815-4c19-bb4a-a8649689debd",
   "metadata": {},
   "outputs": [
    {
     "name": "stdout",
     "output_type": "stream",
     "text": [
      "['id', 'title', 'audienceScore', 'tomatoMeter', 'rating', 'ratingContents', 'releaseDateTheaters', 'releaseDateStreaming', 'runtimeMinutes', 'genre', 'originalLanguage', 'director', 'writer', 'boxOffice', 'distributor', 'soundMix', 'releaseYearEarlier']\n",
      "('the_highwaymen', 'The Highwaymen', 74, 58, 'R', \"['Bloody Images', 'Some Strong Violence']\", '2019-03-29', '2019-03-30', 132, 'Crime, Drama', 'English', 'John Lee Hancock', 'John Fusco', None, 'Netflix', None, 2019.0)\n",
      "('the_highwaymen', 'The Highwaymen', 74, 58, 'R', \"['Bloody Images', 'Some Strong Violence']\", '2019-03-29', '2019-03-30', 132, 'Crime, Drama', 'English', 'John Lee Hancock', 'John Fusco', None, 'Netflix', None, 2019.0)\n"
     ]
    }
   ],
   "source": [
    "# checking one entry from the output above in the rotten_tomatoes table\n",
    "query = \"\"\"\n",
    "        SELECT *\n",
    "        FROM rotten_tomatoes\n",
    "        WHERE id = 'the_highwaymen';\n",
    "        \"\"\"\n",
    "\n",
    "# print column names\n",
    "out = cur.execute(query)\n",
    "names = list(map(lambda x: x[0], cur.description))\n",
    "print(names)\n",
    "\n",
    "for row in out: \n",
    "    print(row) "
   ]
  },
  {
   "cell_type": "markdown",
   "id": "7e124184-0cd0-451d-91bb-eb036a2ccf80",
   "metadata": {},
   "source": [
    "Seems like there are entries with the same id in rotten_tomatoes. Going to group by the id first and then join to prevent duplicates. Adding in the runtime constraint to make sure we are getting \"close to\" precise matches as much as possible."
   ]
  },
  {
   "cell_type": "code",
   "execution_count": 23,
   "id": "198edd4d-9fa3-4969-8f29-81f15cf46d96",
   "metadata": {
    "scrolled": true
   },
   "outputs": [
    {
     "name": "stdout",
     "output_type": "stream",
     "text": [
      "['unique_id', 'total']\n",
      "(604, 604)\n"
     ]
    }
   ],
   "source": [
    "query = \"\"\"\n",
    "        SELECT COUNT( DISTINCT n.id ) AS unique_id, COUNT(*) AS total\n",
    "        FROM netflix AS n\n",
    "        INNER JOIN (\n",
    "            SELECT *\n",
    "            FROM rotten_tomatoes \n",
    "            GROUP BY id) AS r\n",
    "        ON LOWER(n.title) = LOWER(r.title) AND n.releaseYear = r.releaseYearEarlier AND n.language = r.originalLanguage\n",
    "        WHERE ( r.runtimeMinutes <= n.runtime_min +5 AND r.runtimeMinutes >= n.runtime_min -5 );\n",
    "        \"\"\"\n",
    "\n",
    "# print column names\n",
    "out = cur.execute(query)\n",
    "names = list(map(lambda x: x[0], cur.description))\n",
    "print(names)\n",
    "\n",
    "for row in out: \n",
    "    print(row) "
   ]
  },
  {
   "cell_type": "markdown",
   "id": "b1160029-ce0d-41bd-b679-97d8881363d8",
   "metadata": {},
   "source": [
    "Moving onto letterboxd."
   ]
  },
  {
   "cell_type": "code",
   "execution_count": 25,
   "id": "30ce907c-9258-4bce-b9f3-f1f9e80e23a7",
   "metadata": {
    "scrolled": true
   },
   "outputs": [
    {
     "name": "stdout",
     "output_type": "stream",
     "text": [
      "['id', 'name', 'date', 'minute', 'rating']\n",
      "('1000001', 'Barbie', 2023, 114, 3.86)\n",
      "('1000002', 'Parasite', 2019, 133, 4.56)\n",
      "('1000003', 'Everything Everywhere All at Once', 2022, 140, 4.3)\n",
      "('1000004', 'Fight Club', 1999, 139, 4.27)\n",
      "('1000005', 'La La Land', 2016, 129, 4.09)\n",
      "('1000006', 'Oppenheimer', 2023, 181, 4.23)\n",
      "('1000007', 'Interstellar', 2014, 169, 4.35)\n",
      "('1000008', 'Joker', 2019, 122, 3.85)\n",
      "('1000009', 'Dune', 2021, 155, 3.9)\n",
      "('1000010', 'Pulp Fiction', 1994, 154, 4.26)\n"
     ]
    }
   ],
   "source": [
    "# Check if letterboxd dataframe was saved correctly by loading and pulling up first 10 entries\n",
    "query = \"\"\"\n",
    "        SELECT *\n",
    "        FROM letterboxd\n",
    "        LIMIT 10;\n",
    "        \"\"\"\n",
    "# print column names\n",
    "out = cur.execute(query)\n",
    "names = list(map(lambda x: x[0], cur.description))\n",
    "print(names)\n",
    "for row in out: \n",
    "    print(row) "
   ]
  },
  {
   "cell_type": "markdown",
   "id": "cc32d31f-9f21-436f-87ad-bfa225e0b919",
   "metadata": {},
   "source": [
    "Let's proactively check if there are entries with duplicate ids in the letterboxd table as in the rotten_tomatoes table."
   ]
  },
  {
   "cell_type": "code",
   "execution_count": 29,
   "id": "8b1e50c4-ff37-459d-9b4c-df9f4f7575cd",
   "metadata": {},
   "outputs": [
    {
     "name": "stdout",
     "output_type": "stream",
     "text": [
      "['id', 'COUNT(id)']\n"
     ]
    }
   ],
   "source": [
    "query = \"\"\"\n",
    "        SELECT id, COUNT(id)\n",
    "        FROM letterboxd\n",
    "        GROUP BY id\n",
    "        HAVING COUNT(id)>1;\n",
    "        \"\"\"\n",
    "# print column names\n",
    "out = cur.execute(query)\n",
    "names = list(map(lambda x: x[0], cur.description))\n",
    "print(names)\n",
    "for row in out: \n",
    "    print(row) "
   ]
  },
  {
   "cell_type": "markdown",
   "id": "af6cb2e5-bc1d-4892-b892-c460357b9f8f",
   "metadata": {},
   "source": [
    "Seems like all entries have unique ids! Moving onto combining with netflix data."
   ]
  },
  {
   "cell_type": "code",
   "execution_count": 37,
   "id": "e2de9bf8-47cd-4c2d-a3a4-85287c2920b8",
   "metadata": {},
   "outputs": [
    {
     "name": "stdout",
     "output_type": "stream",
     "text": [
      "['id', 'title', 'releaseDate', 'genre', 'runtime', 'language', 'filmType', 'runtime_min', 'releaseYear', 'id', 'name', 'date', 'minute', 'rating']\n",
      "(94, 'One of Us', 'October 20, 2017', None, '1 h 35 min', 'English', 'Documentaries', 95, 2017, '1014825', 'One of Us', 2017, 95, 3.47)\n",
      "(239, 'Beats', 'June 19, 2019', 'Coming-of-age drama', '1 h 50 min', 'English', 'Feature films', 110, 2019, '1010859', 'Beats', 2019, 100, 3.71)\n",
      "(441, 'The Beast', 'November 27, 2020', 'Action thriller', '1 h 39 min', 'Italian', 'Feature films', 99, 2020, '1035031', 'The Beast', 2020, 90, 2.43)\n",
      "(442, 'The Call', 'November 27, 2020', 'Psychological thriller', '1 h 52 min', 'Korean', 'Feature films', 112, 2020, '1002380', 'The Call', 2020, 112, 3.57)\n",
      "(463, 'Becoming', 'May 6, 2020', None, '1 h 29 min', 'English', 'Documentaries', 89, 2020, '1011923', 'Becoming', 2020, 89, 3.63)\n",
      "(771, 'Bubble', 'April 28, 2022', 'Anime', '1 h 41 min', 'Japanese', 'Feature films', 101, 2022, '1006558', 'Bubble', 2022, 101, 2.89)\n",
      "(860, 'The Takeover', 'November 1, 2022', 'Action / thriller', '1 h 28 min', 'Dutch', 'Feature films', 88, 2022, '1032321', 'The Takeover', 2022, 87, 2.24)\n",
      "(955, 'The House', 'January 14, 2022', 'Stop motion / dark comedy', '1 h 37 min', 'English', 'Specials', 97, 2022, '1001299', 'The House', 2022, 97, 3.54)\n",
      "(988, 'Dear David', 'February 9, 2023', 'Coming-of-age romantic drama', '1 h 58 min', 'Indonesian', 'Feature films', 118, 2023, '1018824', 'Dear David', 2023, 118, 2.56)\n",
      "(1056, 'Zom 100: Bucket List of the Dead', 'August 3, 2023', 'Zombie apocalypse / comedy', '2 h 9 min', 'Japanese', 'Feature films', 129, 2023, '1009915', 'Zom 100: Bucket List of the Dead', 2023, 129, 2.6)\n",
      "(1110, 'Leo', 'November 21, 2023', 'Animated musical', '1 h 46 min', 'English', 'Feature films', 106, 2023, '1002860', 'Leo', 2023, 102, 3.01)\n"
     ]
    }
   ],
   "source": [
    "# Joining on title/name and year/date, and checking for non-unique entries\n",
    "query = \"\"\"\n",
    "        SELECT *\n",
    "        FROM netflix AS n\n",
    "        INNER JOIN letterboxd AS l\n",
    "        ON LOWER(n.title) = LOWER(l.name) AND n.releaseYear = l.date\n",
    "        GROUP BY n.id\n",
    "        HAVING COUNT(*) > 1;\n",
    "        \"\"\"\n",
    "\n",
    "# print column names\n",
    "out = cur.execute(query)\n",
    "names = list(map(lambda x: x[0], cur.description))\n",
    "print(names)\n",
    "\n",
    "for row in out: \n",
    "    print(row) "
   ]
  },
  {
   "cell_type": "markdown",
   "id": "f68667b5-e895-4382-b254-f1e3db52dbb5",
   "metadata": {},
   "source": [
    "Let's add in the runtime constraint."
   ]
  },
  {
   "cell_type": "code",
   "execution_count": 49,
   "id": "18644b8a-8300-439b-9dc8-bb01c78ba66d",
   "metadata": {},
   "outputs": [
    {
     "name": "stdout",
     "output_type": "stream",
     "text": [
      "['unique_id', 'total']\n",
      "(1109, 1110)\n"
     ]
    }
   ],
   "source": [
    "# Adding runtime constraint and checking the number of unique entries\n",
    "query = \"\"\"\n",
    "        SELECT COUNT( DISTINCT n.id ) AS unique_id, COUNT(*) AS total\n",
    "        FROM netflix AS n\n",
    "        INNER JOIN letterboxd AS l\n",
    "        ON LOWER(n.title) = LOWER(l.name) AND n.releaseYear = l.date\n",
    "        WHERE ( l.minute <= n.runtime_min +5 AND l.minute >= n.runtime_min -5 );\n",
    "        \"\"\"\n",
    "\n",
    "# print column names\n",
    "out = cur.execute(query)\n",
    "names = list(map(lambda x: x[0], cur.description))\n",
    "print(names)\n",
    "\n",
    "for row in out: \n",
    "    print(row) "
   ]
  },
  {
   "cell_type": "code",
   "execution_count": 43,
   "id": "1de8c6d6-91bd-4187-9aea-4f7b24568807",
   "metadata": {},
   "outputs": [
    {
     "name": "stdout",
     "output_type": "stream",
     "text": [
      "['id', 'title', 'releaseDate', 'genre', 'runtime', 'language', 'filmType', 'runtime_min', 'releaseYear']\n",
      "(771, 'Bubble', 'April 28, 2022', 'Anime', '1 h 41 min', 'Japanese', 'Feature films', 101, 2022)\n",
      "['id', 'name', 'date', 'minute', 'rating']\n",
      "('1006558', 'Bubble', 2022, 101, 2.89)\n",
      "('1012729', 'Bubble', 2005, 74, 3.4)\n",
      "('1085051', 'Bubble', 2022, 103, 3.44)\n"
     ]
    }
   ],
   "source": [
    "# Check the entry in netflix and letterboxd\n",
    "query = \"\"\"\n",
    "        SELECT *\n",
    "        FROM netflix\n",
    "        WHERE title = 'Bubble';\n",
    "        \"\"\"\n",
    "# print column names\n",
    "out = cur.execute(query)\n",
    "names = list(map(lambda x: x[0], cur.description))\n",
    "print(names)\n",
    "for row in out: \n",
    "    print(row) \n",
    "    \n",
    "query = \"\"\"\n",
    "        SELECT *\n",
    "        FROM letterboxd\n",
    "        WHERE name = 'Bubble';\n",
    "        \"\"\"\n",
    "# print column names\n",
    "out = cur.execute(query)\n",
    "names = list(map(lambda x: x[0], cur.description))\n",
    "print(names)\n",
    "for row in out: \n",
    "    print(row) "
   ]
  },
  {
   "cell_type": "markdown",
   "id": "855beb3b-4ddf-41d3-bd0a-df5d2ba32bb8",
   "metadata": {},
   "source": [
    "TODO: maybe would be good to include primary language in letterboxd table and use as a condition to join as well?"
   ]
  },
  {
   "cell_type": "code",
   "execution_count": 50,
   "id": "0c9c7a0a-c321-4ac5-9e92-9e6e032abd62",
   "metadata": {},
   "outputs": [
    {
     "name": "stdout",
     "output_type": "stream",
     "text": [
      "<class 'pandas.core.frame.DataFrame'>\n",
      "RangeIndex: 1038762 entries, 0 to 1038761\n",
      "Data columns (total 3 columns):\n",
      " #   Column    Non-Null Count    Dtype \n",
      "---  ------    --------------    ----- \n",
      " 0   id        1038762 non-null  Int64 \n",
      " 1   type      1038762 non-null  string\n",
      " 2   language  1038762 non-null  string\n",
      "dtypes: Int64(1), string(2)\n",
      "memory usage: 24.8 MB\n"
     ]
    }
   ],
   "source": [
    "# Load CSV file into a DataFrame\\\n",
    "path = '/Users/sunyoungpark/.cache/kagglehub/datasets/gsimonx37/letterboxd/versions/2/languages.csv'\n",
    "df = pd.read_csv(path)\n",
    "df = df.convert_dtypes()\n",
    "df.info()"
   ]
  },
  {
   "cell_type": "code",
   "execution_count": 51,
   "id": "3f3c7281-cbe0-488d-bba1-9b5542a3ee30",
   "metadata": {},
   "outputs": [
    {
     "data": {
      "text/plain": [
       "1038762"
      ]
     },
     "execution_count": 51,
     "metadata": {},
     "output_type": "execute_result"
    }
   ],
   "source": [
    "# Write the data to a sqlite table \n",
    "df.to_sql('letterboxd_languages', conn, if_exists='replace', index=False) "
   ]
  },
  {
   "cell_type": "code",
   "execution_count": 54,
   "id": "9d1798a5-b3f5-4fb8-a057-f10a8dfb78f2",
   "metadata": {},
   "outputs": [
    {
     "name": "stdout",
     "output_type": "stream",
     "text": [
      "['id', 'name', 'date', 'minute', 'rating', 'language']\n",
      "('1000002', 'Parasite', 2019, 133, 4.56, 'Korean')\n",
      "('1000003', 'Everything Everywhere All at Once', 2022, 140, 4.3, 'English')\n",
      "('1000006', 'Oppenheimer', 2023, 181, 4.23, 'English')\n",
      "('1000009', 'Dune', 2021, 155, 3.9, 'English')\n",
      "('1000010', 'Pulp Fiction', 1994, 154, 4.26, 'English')\n",
      "('1000011', 'Spider-Man: Into the Spider-Verse', 2018, 117, 4.42, 'English')\n",
      "('1000015', 'Knives Out', 2019, 131, 3.99, 'English')\n",
      "('1000016', 'Midsommar', 2019, 147, 3.78, 'English')\n",
      "('1000017', 'The Dark Knight', 2008, 152, 4.47, 'English')\n",
      "('1000018', 'Inception', 2010, 148, 4.2, 'English')\n"
     ]
    }
   ],
   "source": [
    "query = \"\"\"\n",
    "        SELECT l.id, l.name, l.date, l.minute, l.rating, lang.language\n",
    "        FROM letterboxd AS l\n",
    "        LEFT JOIN letterboxd_languages AS lang\n",
    "        ON l.id = lang.id\n",
    "        WHERE lang.type = 'Primary language'\n",
    "        LIMIT 10;\n",
    "        \"\"\"\n",
    "# print column names\n",
    "out = cur.execute(query)\n",
    "names = list(map(lambda x: x[0], cur.description))\n",
    "print(names)\n",
    "for row in out: \n",
    "    print(row) "
   ]
  },
  {
   "cell_type": "markdown",
   "id": "33adddef-f6db-4526-b069-03d72fe53751",
   "metadata": {},
   "source": [
    "Now using this joined table as a subquery to join to the netflix table"
   ]
  },
  {
   "cell_type": "code",
   "execution_count": 55,
   "id": "b6575e9b-7105-4c1b-83cf-43a1388514b8",
   "metadata": {},
   "outputs": [
    {
     "ename": "KeyboardInterrupt",
     "evalue": "",
     "output_type": "error",
     "traceback": [
      "\u001b[0;31m---------------------------------------------------------------------------\u001b[0m",
      "\u001b[0;31mKeyboardInterrupt\u001b[0m                         Traceback (most recent call last)",
      "Cell \u001b[0;32mIn[55], line 16\u001b[0m\n\u001b[1;32m      2\u001b[0m query \u001b[38;5;241m=\u001b[39m \u001b[38;5;124m\"\"\"\u001b[39m\n\u001b[1;32m      3\u001b[0m \u001b[38;5;124m        SELECT COUNT( DISTINCT n.id ) AS unique_id, COUNT(*) AS total\u001b[39m\n\u001b[1;32m      4\u001b[0m \u001b[38;5;124m        FROM netflix AS n\u001b[39m\n\u001b[0;32m   (...)\u001b[0m\n\u001b[1;32m     12\u001b[0m \u001b[38;5;124m        ON LOWER(n.title) = LOWER(l.name) AND n.releaseYear = l.date AND n.language = l.language;\u001b[39m\n\u001b[1;32m     13\u001b[0m \u001b[38;5;124m        \u001b[39m\u001b[38;5;124m\"\"\"\u001b[39m\n\u001b[1;32m     14\u001b[0m \u001b[38;5;66;03m# WHERE ( l.minute <= n.runtime_min +5 AND l.minute >= n.runtime_min -5 )\u001b[39;00m\n\u001b[1;32m     15\u001b[0m \u001b[38;5;66;03m# print column names\u001b[39;00m\n\u001b[0;32m---> 16\u001b[0m out \u001b[38;5;241m=\u001b[39m cur\u001b[38;5;241m.\u001b[39mexecute(query)\n\u001b[1;32m     17\u001b[0m names \u001b[38;5;241m=\u001b[39m \u001b[38;5;28mlist\u001b[39m(\u001b[38;5;28mmap\u001b[39m(\u001b[38;5;28;01mlambda\u001b[39;00m x: x[\u001b[38;5;241m0\u001b[39m], cur\u001b[38;5;241m.\u001b[39mdescription))\n\u001b[1;32m     18\u001b[0m \u001b[38;5;28mprint\u001b[39m(names)\n",
      "\u001b[0;31mKeyboardInterrupt\u001b[0m: "
     ]
    }
   ],
   "source": [
    "# Adding language match as another join condition and checking the number of unique entries\n",
    "query = \"\"\"\n",
    "        SELECT COUNT( DISTINCT n.id ) AS unique_id, COUNT(*) AS total\n",
    "        FROM netflix AS n\n",
    "        INNER JOIN (\n",
    "            SELECT l.id, l.name, l.date, l.minute, l.rating, lang.language\n",
    "            FROM letterboxd AS l\n",
    "            LEFT JOIN letterboxd_languages AS lang\n",
    "            ON l.id = lang.id\n",
    "            WHERE lang.type = 'Primary language'\n",
    "            ) AS l\n",
    "        ON LOWER(n.title) = LOWER(l.name) AND n.releaseYear = l.date AND n.language = l.language;\n",
    "        \"\"\"\n",
    "# WHERE ( l.minute <= n.runtime_min +5 AND l.minute >= n.runtime_min -5 )\n",
    "# print column names\n",
    "out = cur.execute(query)\n",
    "names = list(map(lambda x: x[0], cur.description))\n",
    "print(names)\n",
    "\n",
    "for row in out: \n",
    "    print(row) "
   ]
  },
  {
   "cell_type": "code",
   "execution_count": 56,
   "id": "d6a188ec-c634-44ee-8770-2b78bcff7ab2",
   "metadata": {},
   "outputs": [],
   "source": [
    "# Close connection to SQLite database \n",
    "conn.close()"
   ]
  }
 ],
 "metadata": {
  "kernelspec": {
   "display_name": "Python 3 (ipykernel)",
   "language": "python",
   "name": "python3"
  },
  "language_info": {
   "codemirror_mode": {
    "name": "ipython",
    "version": 3
   },
   "file_extension": ".py",
   "mimetype": "text/x-python",
   "name": "python",
   "nbconvert_exporter": "python",
   "pygments_lexer": "ipython3",
   "version": "3.12.9"
  }
 },
 "nbformat": 4,
 "nbformat_minor": 5
}
