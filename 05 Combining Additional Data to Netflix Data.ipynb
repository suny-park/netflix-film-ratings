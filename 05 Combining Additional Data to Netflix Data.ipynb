{
 "cells": [
  {
   "cell_type": "markdown",
   "id": "a32c675d-4be6-4aea-a8e1-367cd945d29d",
   "metadata": {},
   "source": [
    "### Before combining all data, I want to check how many matches to the Netflix data we can get with the Rotten Tomatoes and Letterboxd data, separately.\n",
    "\n",
    "Below are the fields of the tables saved in the database.\n",
    "\n",
    "### netflix – Contains the Netflix original film list (webscraped from Wikipedia):\n",
    "- title (string) - official Netflix title\n",
    "- releaseDate (string) - release date in '{month} {day}, {year}' format (e.g. 'October 16, 2015') \n",
    "- genre - main genre\n",
    "- runtime - runtime of the flim in '{hour} h {minute} min' format (e.g. '1 h 40 min')\n",
    "- language - main langauge of the film\n",
    "- filmType - type of the film (e.g. feature film, documentary, special, etc)\n",
    "- runtime_min - runtime converted to minutes\n",
    "\n",
    "### rotten_tomatoes\n",
    "- id (string) - Unique identifier for each movie\n",
    "- title - The title of the movie\n",
    "- audienceScore - The average score given by regular viewers (0-100)\n",
    "- tomatoMeter - The percentage of positive reviews from professional critics (0-100)\n",
    "- rating - The movie's age-based classification (e.g., G, PG, PG-13, R)\n",
    "- ratingContents - Content leading to the rating classification\n",
    "- releaseDateTheaters - The date the movie was released in theaters\n",
    "- releaseDateStreaming - The date the movie became available for streaming\n",
    "- runtimeMinutes - The duration of the movie in minutes\n",
    "- genre - The movie's genre(s)\n",
    "- originalLanguage - The original language of the movie\n",
    "- director - The movie's director\n",
    "- writer - The writer(s) responsible for the movie's screenplay\n",
    "- boxOffice - The movie's total box office revenue\n",
    "- distributer - The company responsible for distributing the movie\n",
    "- soundMix - The audio format(s) used in the movie\n",
    "- releaseYearEarlier - The year the movie was released, either in theaters or on a streaming service, whichever is earlier\n",
    "\n",
    "### letterboxd\n",
    "- id - unique identifier for each movie\n",
    "- name - title of the movie\n",
    "- date - release year of the movie\n",
    "- minute - runtime in minutes\n",
    "- rating - rating on letterboxd"
   ]
  },
  {
   "cell_type": "code",
   "execution_count": 10,
   "id": "59838488-2114-4307-9c75-a6107b4304d8",
   "metadata": {},
   "outputs": [],
   "source": [
    "import pandas as pd\n",
    "import os\n",
    "import sqlite3 \n",
    "\n",
    "# Connect to SQLite database \n",
    "conn = sqlite3.connect('films.db') \n",
    "\n",
    "# Create a cursor object \n",
    "cur = conn.cursor() "
   ]
  },
  {
   "cell_type": "code",
   "execution_count": 17,
   "id": "ef8b59a8-f5d9-4e7b-9edf-70eeca88cccd",
   "metadata": {
    "scrolled": true
   },
   "outputs": [
    {
     "name": "stdout",
     "output_type": "stream",
     "text": [
      "['id', 'title', 'audienceScore', 'tomatoMeter', 'rating', 'ratingContents', 'releaseDateTheaters', 'releaseDateStreaming', 'runtimeMinutes', 'genre', 'originalLanguage', 'director', 'writer', 'boxOffice', 'distributor', 'soundMix', 'releaseYearEarlier']\n",
      "('space-zombie-bingo', 'Space Zombie Bingo!', 50, None, None, None, None, '2018-08-25', 75, 'Comedy, Horror, Sci-fi', 'English', 'George Ormrod', 'George Ormrod,John Sabotta', None, None, None, 2018.0)\n",
      "('love_lies', 'Love, Lies', 43, None, None, None, None, None, 120, 'Drama', 'Korean', 'Park Heung-Sik,Heung-Sik Park', 'Ha Young-Joon,Jeon Yun-su,Song Hye-jin', None, None, None, None)\n",
      "('the_sore_losers_1997', 'Sore Losers', 60, None, None, None, None, '2020-10-23', 90, 'Action, Mystery & thriller', 'English', 'John Michael McCarthy', 'John Michael McCarthy', None, None, None, 2020.0)\n",
      "('dinosaur_island_2002', 'Dinosaur Island', 70, None, None, None, None, '2017-03-27', 80, 'Fantasy, Adventure, Animation', 'English', 'Will Meugniot', 'John Loy', None, None, None, 2017.0)\n",
      "('adrift_2018', 'Adrift', 65, 69, 'PG-13', \"['Injury Images', 'Brief Drug Use', 'Thematic Elements', 'Language', 'Partial Nudity', 'Peril']\", '2018-06-01', '2018-08-21', 120, 'Adventure, Drama, Romance', 'English', 'Baltasar Kormákur', 'Aaron Kandell,Jordan Kandell,David Branson Smith', '$31.4M', 'STX Films', None, 2018.0)\n",
      "('malta-con-huevo-scrambled-beer', 'Scrambled Beer', 55, None, None, None, None, '2015-10-05', 88, 'Comedy', 'Spanish', 'Cristobal Valderrama', 'Cristobal Valderrama', None, None, None, 2015.0)\n",
      "('kakabakaba-ka-ba', 'Kakabakaba ka ba? (Will Your Heart Beat Faster?)', 88, None, None, None, None, None, None, None, None, 'Mike de Leon', None, None, None, None, None)\n",
      "('1035316-born_to_kill', 'Born to Kill', 74, 83, None, None, '1947-04-30', '2016-05-23', 92, 'Crime, Drama', 'English', 'Robert Wise', 'Eve Greene,Richard Macaulay', None, None, None, 1947.0)\n",
      "('1015331-number_one_with_a_bullet', 'Number One With a Bullet', 19, None, None, None, None, '2012-03-13', 103, 'Crime, Drama', 'English', 'Jack Smight', None, None, None, None, 2012.0)\n",
      "('margarita_happy_hour', 'Margarita Happy Hour', None, 76, None, None, '2002-03-22', None, 98, 'Drama', 'English', 'Ilya Chaiken', 'Ilya Chaiken', '$11.5K', 'Passport Pictures', 'Surround', 2002.0)\n"
     ]
    }
   ],
   "source": [
    "# Check if basics dataframe was saved correctly by loading and pulling up first 10 entries\n",
    "query = \"\"\"\n",
    "        SELECT *\n",
    "        FROM rotten_tomatoes\n",
    "        LIMIT 10;\n",
    "        \"\"\"\n",
    "# print column names\n",
    "out = cur.execute(query)\n",
    "names = list(map(lambda x: x[0], cur.description))\n",
    "print(names)\n",
    "for row in out: \n",
    "    print(row) "
   ]
  },
  {
   "cell_type": "markdown",
   "id": "3700bcf2-29f7-4089-87b0-e817b8140b99",
   "metadata": {},
   "source": [
    "Let's try joining netflix and rotten_tomatoes table on the title. Adding runtime constraint proactively."
   ]
  },
  {
   "cell_type": "code",
   "execution_count": 22,
   "id": "02cf3093-3cdb-4654-ac3d-d0071c6a1140",
   "metadata": {
    "scrolled": true
   },
   "outputs": [
    {
     "name": "stdout",
     "output_type": "stream",
     "text": [
      "['title', 'releaseDate', 'genre', 'runtime', 'language', 'filmType', 'runtime_min', 'releaseYear', 'id', 'title', 'audienceScore', 'tomatoMeter', 'rating', 'ratingContents', 'releaseDateTheaters', 'releaseDateStreaming', 'runtimeMinutes', 'genre', 'originalLanguage', 'director', 'writer', 'boxOffice', 'distributor', 'soundMix', 'releaseYearEarlier']\n",
      "('Beasts of No Nation', 'October 16, 2015', 'War drama', '2 h 17 min', 'English', 'Feature films', 137, 2015, 'beasts_of_no_nation', 'Beasts of No Nation', 92, 91, None, None, '2015-10-16', '2017-02-06', 136, 'War, Drama', 'English', 'Cary Joji Fukunaga', 'Cary Joji Fukunaga', '$83.9K', 'Bleecker Street Media, Netflix', None, 2015.0)\n",
      "('The Ridiculous 6', 'December 11, 2015', 'Western comedy', '2 h', 'English', 'Feature films', 120, 2015, 'the_ridiculous_6', 'The Ridiculous 6', 35, 0, None, None, None, '2017-04-03', 119, 'Comedy, Western', 'English', 'Frank Coraci', 'Tim Herlihy,Adam Sandler', None, None, None, 2017.0)\n",
      "(\"Pee-wee's Big Holiday\", 'March 18, 2016', 'Adventure comedy', '1 h 30 min', 'English', 'Feature films', 90, 2016, 'pee_wees_big_holiday', \"Pee-wee's Big Holiday\", 61, 80, None, None, None, '2017-05-23', 89, 'Comedy, Adventure', 'English', 'John Lee', 'Paul Reubens,Paul Rust', None, None, None, 2017.0)\n",
      "('Brahman Naman', 'July 7, 2016', 'Sex comedy', '1 h 35 min', 'English', 'Feature films', 95, 2016, 'brahman_naman', 'Brahman Naman', 45, 67, None, None, None, '2017-04-04', 95, 'Comedy', 'English', 'Qaushiq Mukherjee', 'Naman Ramachandran', None, None, None, 2017.0)\n",
      "('Rebirth', 'July 15, 2016', 'Thriller', '1 h 40 min', 'English', 'Feature films', 100, 2016, 'rebirth_2016', 'Rebirth', 27, 43, None, None, None, '2017-05-22', 100, 'Mystery & thriller', 'English', 'Karl Mueller', 'Karl Mueller', None, None, None, 2017.0)\n",
      "('Tallulah', 'July 29, 2016', 'Comedy drama', '1 h 51 min', 'English', 'Feature films', 111, 2016, 'tallulah', 'Tallulah', 69, 85, None, None, '2016-07-29', '2017-05-23', 111, 'Drama', 'English', 'Sian Heder', 'Sian Heder', None, 'Netflix', None, 2016.0)\n",
      "('XOXO', 'August 26, 2016', 'Drama', '1 h 32 min', 'English', 'Feature films', 92, 2016, 'xoxo_2016', 'XOXO', 52, 71, None, None, None, '2017-05-23', 92, 'Comedy', 'English', 'Christopher Louie', 'Dylan Meyer', None, None, None, 2017.0)\n",
      "('ARQ', 'September 16, 2016', 'Science fiction / Thriller', '1 h 28 min', 'English', 'Feature films', 88, 2016, 'arq', 'ARQ', 46, 43, None, None, None, '2017-04-04', 88, 'Sci-fi', 'English', 'Tony Elliott', 'Tony Elliott', None, None, None, 2017.0)\n",
      "('The Siege of Jadotville', 'October 7, 2016', 'War', '1 h 48 min', 'English', 'Feature films', 108, 2016, 'the_siege_of_jadotville', 'The Siege of Jadotville', 74, 64, None, None, '2016-10-07', '2017-05-23', 108, 'Drama, Mystery & thriller', 'English', 'Richie Smyth', 'Kevin Brodbin', None, 'Netflix', None, 2016.0)\n",
      "('Mascots', 'October 13, 2016', 'Mockumentary', '1 h 35 min', 'English', 'Feature films', 95, 2016, 'mascots', 'Mascots', 36, 48, None, None, None, '2017-05-23', 95, 'Comedy', 'English', 'Christopher Guest', 'Christopher Guest,Jim Piddock', None, None, None, 2017.0)\n"
     ]
    }
   ],
   "source": [
    "query = \"\"\"\n",
    "        SELECT *\n",
    "        FROM netflix AS n\n",
    "        INNER JOIN rotten_tomatoes AS r\n",
    "        ON LOWER(n.title) = LOWER(r.title)\n",
    "        WHERE ( r.runtimeMinutes < n.runtime_min +3 AND r.runtimeMinutes > n.runtime_min -3 )\n",
    "        LIMIT 10;\n",
    "        \"\"\"\n",
    "\n",
    "# print column names\n",
    "out = cur.execute(query)\n",
    "names = list(map(lambda x: x[0], cur.description))\n",
    "print(names)\n",
    "\n",
    "for row in out: \n",
    "    print(row) "
   ]
  },
  {
   "cell_type": "markdown",
   "id": "9b00e9be-8230-442d-8028-f342d1710442",
   "metadata": {},
   "source": [
    "The first 10 entries look good. Let's check the entire query result for duplicates - multiple entries of rotten_tomatoes table joined to the same entry in the netflix table."
   ]
  },
  {
   "cell_type": "code",
   "execution_count": 24,
   "id": "6b477a41-f1f1-4df1-87ed-0093149c902c",
   "metadata": {
    "scrolled": true
   },
   "outputs": [
    {
     "name": "stdout",
     "output_type": "stream",
     "text": [
      "['COUNT(*)', 'COUNT(DISTINCT n.title)']\n",
      "(733, 702)\n"
     ]
    }
   ],
   "source": [
    "# print the number of rows in the results and the unique number of titles to see how many of the query results contain duplicate titles\n",
    "query = \"\"\"\n",
    "        SELECT COUNT(*), COUNT(DISTINCT n.title)\n",
    "        FROM netflix AS n\n",
    "        INNER JOIN rotten_tomatoes AS r\n",
    "        ON LOWER(n.title) = LOWER(r.title)\n",
    "        WHERE ( r.runtimeMinutes < n.runtime_min +3 AND r.runtimeMinutes > n.runtime_min -3 );\n",
    "        \"\"\"\n",
    "\n",
    "# print column names\n",
    "out = cur.execute(query)\n",
    "names = list(map(lambda x: x[0], cur.description))\n",
    "print(names)\n",
    "\n",
    "for row in out: \n",
    "    print(row) "
   ]
  },
  {
   "cell_type": "code",
   "execution_count": 25,
   "id": "559fb3c4-5fef-45be-8a44-d5fe0ecbb1a4",
   "metadata": {
    "scrolled": true
   },
   "outputs": [
    {
     "name": "stdout",
     "output_type": "stream",
     "text": [
      "['COUNT(*)', 'COUNT(DISTINCT n.title)']\n",
      "(689, 679)\n"
     ]
    }
   ],
   "source": [
    "# print the number of rows in the results and the unique number of titles to see how many of the query results contain duplicate titles\n",
    "query = \"\"\"\n",
    "        SELECT COUNT(*), COUNT(DISTINCT n.title)\n",
    "        FROM netflix AS n\n",
    "        INNER JOIN rotten_tomatoes AS r\n",
    "        ON LOWER(n.title) = LOWER(r.title)\n",
    "        WHERE ( r.runtimeMinutes < n.runtime_min +3 AND r.runtimeMinutes > n.runtime_min -3 )\n",
    "        AND r.releaseYearEarlier <= n.releaseYear + 1 AND r.releaseYearEarlier >= n.releaseYear - 1;\n",
    "        \"\"\"\n",
    "\n",
    "# print column names\n",
    "out = cur.execute(query)\n",
    "names = list(map(lambda x: x[0], cur.description))\n",
    "print(names)\n",
    "\n",
    "for row in out: \n",
    "    print(row) "
   ]
  },
  {
   "cell_type": "code",
   "execution_count": 21,
   "id": "df4ead96-3e96-49fc-979c-0a8830f6b431",
   "metadata": {},
   "outputs": [
    {
     "name": "stdout",
     "output_type": "stream",
     "text": [
      "['id', 'title', 'audienceScore', 'tomatoMeter', 'rating', 'ratingContents', 'releaseDateTheaters', 'releaseDateStreaming', 'runtimeMinutes', 'genre', 'originalLanguage', 'director', 'writer', 'boxOffice', 'distributor', 'soundMix', 'releaseYearEarlier']\n",
      "('project_rebirth_2010', 'Rebirth', 79, 92, None, None, '2011-08-26', '2011-09-06', 104, 'Documentary', 'English', 'James Whitaker', None, '$12.3K', 'Oscilloscope Pictures', None, 2011.0)\n",
      "('yokame_no_semi', 'Rebirth', 69, None, None, None, None, None, 147, 'Drama', 'Japanese', 'Izuru Narushima', 'Satoko Okudera', None, None, 'Dolby Digital', None)\n",
      "('yokame_no_semi', 'Rebirth', 69, None, None, None, None, None, 147, 'Drama', 'Japanese', 'Izuru Narushima', 'Satoko Okudera', None, None, 'Dolby Digital', None)\n",
      "('rebirth_2016', 'Rebirth', 27, 43, None, None, None, '2017-05-22', 100, 'Mystery & thriller', 'English', 'Karl Mueller', 'Karl Mueller', None, None, None, 2017.0)\n"
     ]
    }
   ],
   "source": [
    "# Check if basics dataframe was saved correctly by loading and pulling up first 10 entries\n",
    "query = \"\"\"\n",
    "        SELECT *\n",
    "        FROM rotten_tomatoes\n",
    "        WHERE title = 'Rebirth';\n",
    "        \"\"\"\n",
    "# print column names\n",
    "out = cur.execute(query)\n",
    "names = list(map(lambda x: x[0], cur.description))\n",
    "print(names)\n",
    "for row in out: \n",
    "    print(row) "
   ]
  }
 ],
 "metadata": {
  "kernelspec": {
   "display_name": "Python 3 (ipykernel)",
   "language": "python",
   "name": "python3"
  },
  "language_info": {
   "codemirror_mode": {
    "name": "ipython",
    "version": 3
   },
   "file_extension": ".py",
   "mimetype": "text/x-python",
   "name": "python",
   "nbconvert_exporter": "python",
   "pygments_lexer": "ipython3",
   "version": "3.12.9"
  }
 },
 "nbformat": 4,
 "nbformat_minor": 5
}
