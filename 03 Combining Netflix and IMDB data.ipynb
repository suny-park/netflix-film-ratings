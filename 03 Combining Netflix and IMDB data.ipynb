{
 "cells": [
  {
   "cell_type": "markdown",
   "id": "2a9caeb2-afcf-4554-962a-f5e8828ce4f0",
   "metadata": {},
   "source": [
    "## Based on the film database created in the last step, I want to know the IMDB ratings of the Netflix original films.\n",
    "\n",
    "Below are the list of tables and relevant columns in each.\n",
    "\n",
    "### imdb_basics - Contains the following information for titles:\n",
    "- tconst (string) - alphanumeric unique identifier of the title.\n",
    "- titleType (string) – the type/format of the title (e.g. movie, short,\n",
    "tvseries, tvepisode, video, etc).\n",
    "- primaryTitle (string) – the more popular title / the title used by\n",
    "the filmmakers on promotional materials at the point of release.\n",
    "- originalTitle (string) - original title, in the original language.\n",
    "- startYear (YYYY) – represents the release year of a title. In the\n",
    "case of TV Series, it is the series start year.\n",
    "- runtimeMinutes – primary runtime of the title, in minutes.\n",
    "- genres (string array) – includes up to three genres associated with\n",
    "the title.\n",
    "\n",
    "### imdb_ratings – Contains the IMDb rating and votes information for titles:\n",
    "- tconst (string) - alphanumeric unique identifier of the title.\n",
    "- averageRating – weighted average of all the individual user ratings.\n",
    "- numVotes - number of votes the title has received.\n",
    "\n",
    "### netflix – Contains the Netflix original film list (webscraped from Wikipedia):\n",
    "- title (string) - official Netflix title\n",
    "- releaseDate (string) - release date in '{month} {day}, {year}' format (e.g. 'October 16, 2015') \n",
    "- genre - main genre\n",
    "- runtime - runtime of the flim in '{hour} h {minute} min' format (e.g. '1 h 40 min')\n",
    "- language - main langauge of the film\n",
    "- filmType - type of the film (e.g. feature film, documentary, special, etc)\n",
    "- runtime_min - runtime converted to minutes"
   ]
  },
  {
   "cell_type": "markdown",
   "id": "1889f18c-e4cd-466a-b97e-95f3f69e1835",
   "metadata": {},
   "source": [
    "Connect to the films database and check each table."
   ]
  },
  {
   "cell_type": "code",
   "execution_count": 1,
   "id": "9e860329-3f6a-47b6-88f1-653d3bbe0e23",
   "metadata": {},
   "outputs": [],
   "source": [
    "import pandas as pd\n",
    "import os\n",
    "import sqlite3 \n",
    "\n",
    "# Connect to SQLite database \n",
    "conn = sqlite3.connect('films.db') \n",
    "\n",
    "# Create a cursor object \n",
    "cur = conn.cursor() "
   ]
  },
  {
   "cell_type": "code",
   "execution_count": 2,
   "id": "8bde7ad1-0cd2-4a14-8604-f07393ac44a0",
   "metadata": {},
   "outputs": [
    {
     "name": "stdout",
     "output_type": "stream",
     "text": [
      "['tconst', 'titleType', 'primaryTitle', 'originalTitle', 'isAdult', 'startYear', 'endYear', 'runtimeMinutes', 'genres']\n",
      "('tt0000001', 'short', 'Carmencita', 'Carmencita', 0, 1894, None, 1, 'Documentary,Short')\n",
      "('tt0000002', 'short', 'Le clown et ses chiens', 'Le clown et ses chiens', 0, 1892, None, 5, 'Animation,Short')\n",
      "('tt0000003', 'short', 'Poor Pierrot', 'Pauvre Pierrot', 0, 1892, None, 5, 'Animation,Comedy,Romance')\n",
      "('tt0000004', 'short', 'Un bon bock', 'Un bon bock', 0, 1892, None, 12, 'Animation,Short')\n",
      "('tt0000005', 'short', 'Blacksmith Scene', 'Blacksmith Scene', 0, 1893, None, 1, 'Short')\n",
      "('tt0000006', 'short', 'Chinese Opium Den', 'Chinese Opium Den', 0, 1894, None, 1, 'Short')\n",
      "('tt0000007', 'short', 'Corbett and Courtney Before the Kinetograph', 'Corbett and Courtney Before the Kinetograph', 0, 1894, None, 1, 'Short,Sport')\n",
      "('tt0000008', 'short', 'Edison Kinetoscopic Record of a Sneeze', 'Edison Kinetoscopic Record of a Sneeze', 0, 1894, None, 1, 'Documentary,Short')\n",
      "('tt0000009', 'movie', 'Miss Jerry', 'Miss Jerry', 0, 1894, None, 45, 'Romance')\n",
      "('tt0000010', 'short', 'Leaving the Factory', \"La sortie de l'usine Lumière à Lyon\", 0, 1895, None, 1, 'Documentary,Short')\n"
     ]
    }
   ],
   "source": [
    "# Check if basics dataframe was saved correctly by loading and pulling up first 10 entries\n",
    "query = \"\"\"\n",
    "        SELECT *\n",
    "        FROM imdb_basics\n",
    "        LIMIT 10;\n",
    "        \"\"\"\n",
    "# print column names\n",
    "out = cur.execute(query)\n",
    "names = list(map(lambda x: x[0], cur.description))\n",
    "print(names)\n",
    "for row in out: \n",
    "    print(row) "
   ]
  },
  {
   "cell_type": "code",
   "execution_count": 3,
   "id": "f315c8e4-61e9-44c2-87d3-e2b14c4fdd1e",
   "metadata": {},
   "outputs": [
    {
     "name": "stdout",
     "output_type": "stream",
     "text": [
      "['tconst', 'averageRating', 'numVotes']\n",
      "('tt0000001', 5.7, 2133)\n",
      "('tt0000002', 5.5, 289)\n",
      "('tt0000003', 6.4, 2169)\n",
      "('tt0000004', 5.3, 184)\n",
      "('tt0000005', 6.2, 2896)\n",
      "('tt0000006', 5.0, 208)\n",
      "('tt0000007', 5.3, 901)\n",
      "('tt0000008', 5.4, 2280)\n",
      "('tt0000009', 5.3, 220)\n",
      "('tt0000010', 6.8, 7871)\n"
     ]
    }
   ],
   "source": [
    "# Check if ratings dataframe was saved correctly by loading and pulling up first 10 entries\n",
    "query = \"\"\"\n",
    "        SELECT *\n",
    "        FROM imdb_ratings\n",
    "        LIMIT 10;\n",
    "        \"\"\"\n",
    "# print column names\n",
    "out = cur.execute(query)\n",
    "names = list(map(lambda x: x[0], cur.description))\n",
    "print(names)\n",
    "for row in out: \n",
    "    print(row) "
   ]
  },
  {
   "cell_type": "code",
   "execution_count": 4,
   "id": "c8c24757-c1a2-426e-9f95-82e089e62aea",
   "metadata": {},
   "outputs": [
    {
     "name": "stdout",
     "output_type": "stream",
     "text": [
      "['tconst', 'primaryTitle', 'startYear', 'runtimeMinutes', 'averageRating']\n",
      "('tt0000001', 'Carmencita', 1894, 1, 5.7)\n",
      "('tt0000002', 'Le clown et ses chiens', 1892, 5, 5.5)\n",
      "('tt0000003', 'Poor Pierrot', 1892, 5, 6.4)\n",
      "('tt0000004', 'Un bon bock', 1892, 12, 5.3)\n",
      "('tt0000005', 'Blacksmith Scene', 1893, 1, 6.2)\n",
      "('tt0000006', 'Chinese Opium Den', 1894, 1, 5.0)\n",
      "('tt0000007', 'Corbett and Courtney Before the Kinetograph', 1894, 1, 5.3)\n",
      "('tt0000008', 'Edison Kinetoscopic Record of a Sneeze', 1894, 1, 5.4)\n",
      "('tt0000009', 'Miss Jerry', 1894, 45, 5.3)\n",
      "('tt0000010', 'Leaving the Factory', 1895, 1, 6.8)\n"
     ]
    }
   ],
   "source": [
    "# We can join these two tables on 'tconst' which is a unique key for each title.\n",
    "# Using INNER JOIN as we only want entries that exist in both tables - titles that have ratings.\n",
    "query = \"\"\"\n",
    "        SELECT b.tconst, b.primaryTitle, b.startYear, b.runtimeMinutes, r.averageRating\n",
    "        FROM imdb_basics AS b\n",
    "        INNER JOIN imdb_ratings AS r\n",
    "        ON b.tconst = r.tconst\n",
    "        LIMIT 10;\n",
    "        \"\"\"\n",
    "\n",
    "# print column names\n",
    "out = cur.execute(query)\n",
    "names = list(map(lambda x: x[0], cur.description))\n",
    "print(names)\n",
    "\n",
    "for row in out: \n",
    "    print(row) "
   ]
  },
  {
   "cell_type": "code",
   "execution_count": 5,
   "id": "a060de33-b66e-49d9-830b-af3b9d2faddb",
   "metadata": {},
   "outputs": [
    {
     "name": "stdout",
     "output_type": "stream",
     "text": [
      "['title', 'releaseDate', 'genre', 'runtime', 'language', 'filmType', 'runtime_min', 'releaseYear']\n",
      "('Beasts of No Nation', 'October 16, 2015', 'War drama', '2 h 17 min', 'English', 'Feature films', 137, 2015)\n",
      "('The Ridiculous 6', 'December 11, 2015', 'Western comedy', '2 h', 'English', 'Feature films', 120, 2015)\n",
      "(\"Pee-wee's Big Holiday\", 'March 18, 2016', 'Adventure comedy', '1 h 30 min', 'English', 'Feature films', 90, 2016)\n",
      "('Special Correspondents', 'April 29, 2016', 'Satire', '1 h 41 min', 'English', 'Feature films', 101, 2016)\n",
      "('The Do-Over', 'May 27, 2016', 'Action comedy', '1 h 48 min', 'English', 'Feature films', 108, 2016)\n",
      "('The Fundamentals of Caring', 'June 24, 2016', 'Comedy drama', '1 h 37 min', 'English', 'Feature films', 97, 2016)\n",
      "('Brahman Naman', 'July 7, 2016', 'Sex comedy', '1 h 35 min', 'English', 'Feature films', 95, 2016)\n",
      "('Rebirth', 'July 15, 2016', 'Thriller', '1 h 40 min', 'English', 'Feature films', 100, 2016)\n",
      "('Tallulah', 'July 29, 2016', 'Comedy drama', '1 h 51 min', 'English', 'Feature films', 111, 2016)\n",
      "('XOXO', 'August 26, 2016', 'Drama', '1 h 32 min', 'English', 'Feature films', 92, 2016)\n"
     ]
    }
   ],
   "source": [
    "# Read in netflix data and list the column names and the first 10 entries\n",
    "query = \"\"\"\n",
    "        SELECT *\n",
    "        FROM netflix\n",
    "        LIMIT 10;\n",
    "        \"\"\"\n",
    "# print column names\n",
    "out = cur.execute(query)\n",
    "names = list(map(lambda x: x[0], cur.description))\n",
    "print(names)\n",
    "for row in out: \n",
    "    print(row) "
   ]
  },
  {
   "cell_type": "markdown",
   "id": "b565d985-5039-4058-8a12-538f31dac3b0",
   "metadata": {},
   "source": [
    "Let's join netflix and IMDB data by matching the title and release year."
   ]
  },
  {
   "cell_type": "code",
   "execution_count": 6,
   "id": "ad7a9672-cade-4511-aa4b-3e7cc168f19d",
   "metadata": {
    "scrolled": true
   },
   "outputs": [
    {
     "name": "stdout",
     "output_type": "stream",
     "text": [
      "['tconst', 'title', 'releaseDate', 'startYear', 'runtime_min', 'runtimeMinutes']\n",
      "('tt1365050', 'Beasts of No Nation', 'October 16, 2015', 2015, 137, 137)\n",
      "('tt2479478', 'The Ridiculous 6', 'December 11, 2015', 2015, 120, 119)\n",
      "('tt0837156', \"Pee-wee's Big Holiday\", 'March 18, 2016', 2016, 90, 90)\n",
      "('tt4181052', 'Special Correspondents', 'April 29, 2016', 2016, 101, 101)\n",
      "('tt4769836', 'The Do-Over', 'May 27, 2016', 2016, 108, 108)\n",
      "('tt2452386', 'The Fundamentals of Caring', 'June 24, 2016', 2016, 97, 97)\n",
      "('tt5240748', 'Brahman Naman', 'July 7, 2016', 2016, 95, 95)\n",
      "('tt4902716', 'Rebirth', 'July 15, 2016', 2016, 100, 100)\n",
      "('tt5798216', 'Rebirth', 'July 15, 2016', 2016, 100, 23)\n",
      "('tt1639084', 'Tallulah', 'July 29, 2016', 2016, 111, 111)\n"
     ]
    }
   ],
   "source": [
    "# Match title and year between netflix and IMDB data\n",
    "# Getting entries from IMDB that is more recent than 2014 since our netflix flims are 2015-2024\n",
    "query = \"\"\"\n",
    "        SELECT i.tconst, n.title, n.releaseDate, i.startYear, n.runtime_min, i.runtimeMinutes\n",
    "        FROM netflix AS n\n",
    "        LEFT JOIN (SELECT b.tconst, b.primaryTitle, b.startYear, b.runtimeMinutes, r.averageRating\n",
    "                    FROM imdb_basics AS b\n",
    "                    INNER JOIN imdb_ratings AS r\n",
    "                    ON b.tconst = r.tconst\n",
    "                    WHERE startYear > 2014) \n",
    "                    AS i\n",
    "        ON LOWER(n.Title) = LOWER(i.primaryTitle) AND n.releaseYear = i.startYear\n",
    "        LIMIT 10;\n",
    "        \"\"\"\n",
    "out = cur.execute(query)\n",
    "names = list(map(lambda x: x[0], cur.description))\n",
    "print(names)\n",
    "for row in out: \n",
    "    print(row) "
   ]
  },
  {
   "cell_type": "markdown",
   "id": "a2128579-4e21-49d4-8e42-68a6c71daf06",
   "metadata": {},
   "source": [
    "In the above result, there are two 'Rebirth' entries with the same release date, as two different IMDB entries joined on the same netflix entry. Looking at the runtimes for both, only one of them is a right match. One way we can solve this is to limit the join so that the runtime has to be an exact match. However, if we look at 'The Ridiculous 6' entry, the runtime in minutes is 120 in netflix table and 119 in IMDB data. Thus, joining on the exact match for runtime might lead to poorer match overall. Another approach can be filtering using WHERE to display only the entries that have *close enough* runtimes between the two tables. In the below cell, let's filter so that we only see entries whose IMDB runtime comes within +-3 min of netflix runtime."
   ]
  },
  {
   "cell_type": "code",
   "execution_count": 7,
   "id": "e0382a0a-f68c-440e-83d8-f227cedf1ecd",
   "metadata": {
    "scrolled": true
   },
   "outputs": [
    {
     "name": "stdout",
     "output_type": "stream",
     "text": [
      "['tconst', 'title', 'releaseDate', 'startYear', 'runtime_min', 'runtimeMinutes']\n",
      "('tt2479478', 'The Ridiculous 6', 'December 11, 2015', 2015, 120, 119)\n",
      "('tt4902716', 'Rebirth', 'July 15, 2016', 2016, 100, 100)\n"
     ]
    }
   ],
   "source": [
    "# Join on title and year, filter on IMDB runtime = netflix runtime +-3\n",
    "# Check the entries 'The Ridiculous 6' and 'Rebirth'\n",
    "query = \"\"\"\n",
    "        SELECT i.tconst, n.title, n.releaseDate, i.startYear, n.runtime_min, i.runtimeMinutes\n",
    "        FROM netflix AS n\n",
    "        LEFT JOIN (SELECT b.tconst, b.primaryTitle, b.startYear, b.runtimeMinutes, r.averageRating\n",
    "                    FROM imdb_basics AS b\n",
    "                    INNER JOIN imdb_ratings AS r\n",
    "                    ON b.tconst = r.tconst\n",
    "                    WHERE startYear > 2014) \n",
    "                    AS i\n",
    "        ON LOWER(n.Title) = LOWER(i.primaryTitle) AND n.releaseYear = i.startYear\n",
    "        WHERE ( i.runtimeMinutes < n.runtime_min +3 AND i.runtimeMinutes > n.runtime_min -3 )\n",
    "        AND (n.title = 'The Ridiculous 6' OR n.title = 'Rebirth');\n",
    "        \"\"\"\n",
    "out = cur.execute(query)\n",
    "names = list(map(lambda x: x[0], cur.description))\n",
    "print(names)\n",
    "for row in out: \n",
    "    print(row) "
   ]
  },
  {
   "cell_type": "markdown",
   "id": "04753226-c1a8-4add-b725-5f6902105c08",
   "metadata": {},
   "source": [
    "We're able to grab only single entries for these two, so great! Now, let's check netflix films that didn't successfully match to the IMDB entry. Let's nest the above query to left join to the original netflix table to list the films that are not included in the above query."
   ]
  },
  {
   "cell_type": "code",
   "execution_count": 11,
   "id": "01f22dd5-602d-490e-aeeb-acb05052023b",
   "metadata": {
    "scrolled": true
   },
   "outputs": [
    {
     "name": "stdout",
     "output_type": "stream",
     "text": [
      "['title', 'releaseDate', 'genre', 'runtime', 'language', 'filmType', 'runtime_min', 'releaseYear', 'title']\n",
      "('Mascots', 'October 13, 2016', 'Mockumentary', '1 h 35 min', 'English', 'Feature films', 95, 2016, None)\n",
      "('7 años', 'October 28, 2016', 'Drama', '1 h 17 min', 'Spanish', 'Feature films', 77, 2016, None)\n",
      "('Mercy', 'November 22, 2016', 'Thriller', '1 h 27 min', 'English', 'Feature films', 87, 2016, None)\n",
      "('Imperial Dreams', 'February 3, 2017', 'Drama', '1 h 26 min', 'English', 'Feature films', 86, 2017, None)\n",
      "(\"Girlfriend's Day\", 'February 14, 2017', 'Comedy drama', '1 h 10 min', 'English', 'Feature films', 70, 2017, None)\n",
      "(\"I Don't Feel at Home in This World Anymore\", 'February 24, 2017', 'Thriller drama', '1 h 36 min', 'English', 'Feature films', 96, 2017, None)\n",
      "('Burning Sands', 'March 10, 2017', 'Drama', '1 h 42 min', 'English', 'Feature films', 102, 2017, None)\n",
      "('Tramps', 'April 21, 2017', 'Romantic comedy', '1 h 23 min', 'English', 'Feature films', 83, 2017, None)\n",
      "('The Meyerowitz Stories (New and Selected)', 'October 13, 2017', 'Comedy drama', '1 h 52 min', 'English', 'Feature films', 112, 2017, None)\n",
      "('My Own Man', 'March 6, 2015', None, '1 h 21 min', 'English', 'Documentaries', 81, 2015, None)\n"
     ]
    }
   ],
   "source": [
    "# List non-matches\n",
    "query = \"\"\"\n",
    "        SELECT *\n",
    "        FROM netflix AS og_n\n",
    "        LEFT JOIN (SELECT n.title\n",
    "                    FROM netflix AS n\n",
    "                    LEFT JOIN (SELECT b.tconst, b.primaryTitle, b.startYear, b.runtimeMinutes, r.averageRating\n",
    "                                FROM imdb_basics AS b\n",
    "                                INNER JOIN imdb_ratings AS r\n",
    "                                ON b.tconst = r.tconst\n",
    "                                WHERE startYear > 2014) \n",
    "                                AS i\n",
    "                    ON LOWER(n.Title) = LOWER(i.primaryTitle) AND n.releaseYear = i.startYear\n",
    "                    WHERE (runtimeMinutes < n.runtime_min +3 AND i.runtimeMinutes > n.runtime_min -3)\n",
    "                    ) \n",
    "                    AS matched\n",
    "        ON og_n.Title = matched.Title\n",
    "        WHERE matched.Title IS NULL\n",
    "        LIMIT 10;\n",
    "        \"\"\"\n",
    "\n",
    "out = cur.execute(query)\n",
    "names = list(map(lambda x: x[0], cur.description))\n",
    "print(names)\n",
    "for row in out: \n",
    "    print(row) "
   ]
  },
  {
   "cell_type": "markdown",
   "id": "058dce95-c531-4900-a50b-e741bd4a5178",
   "metadata": {},
   "source": [
    "Let's check if some of these exist in the IMDB table."
   ]
  },
  {
   "cell_type": "code",
   "execution_count": 12,
   "id": "f5e1918f-ba43-423f-a093-396d17bdb22a",
   "metadata": {},
   "outputs": [
    {
     "name": "stdout",
     "output_type": "stream",
     "text": [
      "('tt1956565', 'short', 'Mascots', 'Mascots', 0, 2011, None, 21, 'Drama,Family,Short', 'tt1956565', 7.7, 9)\n",
      "('tt4936176', 'movie', 'Mascots', 'Mascots', 0, 2016, None, 89, 'Comedy', 'tt4936176', 5.8, 8267)\n"
     ]
    }
   ],
   "source": [
    "query = \"\"\"\n",
    "        SELECT *\n",
    "        FROM imdb_basics AS b\n",
    "        INNER JOIN imdb_ratings AS r\n",
    "        ON b.tconst = r.tconst\n",
    "        WHERE b.primaryTitle = 'Mascots';\n",
    "        \"\"\"\n",
    "for row in cur.execute(query): \n",
    "    print(row) "
   ]
  },
  {
   "cell_type": "markdown",
   "id": "b6c3fef5-574d-4907-a851-6deec9a070ea",
   "metadata": {},
   "source": [
    "Since we have an entry with 2016 release year, it seems like we need to be more lenient on filtering the runtime.\n",
    "\n",
    "Let's run the original query again with a more lenient filter for runtime and then check some more entries."
   ]
  },
  {
   "cell_type": "code",
   "execution_count": 13,
   "id": "a0abd73b-47f4-4c49-ad1c-991e935b40da",
   "metadata": {
    "scrolled": true
   },
   "outputs": [
    {
     "name": "stdout",
     "output_type": "stream",
     "text": [
      "['title', 'releaseDate', 'genre', 'runtime', 'language', 'filmType', 'runtime_min', 'releaseYear', 'title']\n",
      "('7 años', 'October 28, 2016', 'Drama', '1 h 17 min', 'Spanish', 'Feature films', 77, 2016, None)\n",
      "('Imperial Dreams', 'February 3, 2017', 'Drama', '1 h 26 min', 'English', 'Feature films', 86, 2017, None)\n",
      "('Tramps', 'April 21, 2017', 'Romantic comedy', '1 h 23 min', 'English', 'Feature films', 83, 2017, None)\n",
      "('The Meyerowitz Stories (New and Selected)', 'October 13, 2017', 'Comedy drama', '1 h 52 min', 'English', 'Feature films', 112, 2017, None)\n",
      "('My Own Man', 'March 6, 2015', None, '1 h 21 min', 'English', 'Documentaries', 81, 2015, None)\n",
      "('The Other One: The Long Strange Trip of Bob Weir', 'May 22, 2015', None, '1 h 23 min', 'English', 'Documentaries', 83, 2015, None)\n",
      "('What Happened, Miss Simone?', 'June 26, 2015', None, '1 h 24 min', 'English', 'Documentaries', 84, 2015, None)\n",
      "('Tig', 'July 17, 2015', None, '1 h 20 min', 'English', 'Documentaries', 80, 2015, None)\n",
      "(\"Winter on Fire: Ukraine's Fight for Freedom\", 'October 9, 2015', None, '1 h 31 min', 'Ukrainian', 'Documentaries', 91, 2015, None)\n",
      "('My Beautiful Broken Brain', 'March 18, 2016', None, '1 h 31 min', 'English', 'Documentaries', 91, 2016, None)\n"
     ]
    }
   ],
   "source": [
    "# List non-matches with runtime +-10\n",
    "query = \"\"\"\n",
    "        SELECT *\n",
    "        FROM netflix AS og_n\n",
    "        LEFT JOIN (SELECT n.title\n",
    "                    FROM netflix AS n\n",
    "                    LEFT JOIN (SELECT b.tconst, b.primaryTitle, b.startYear, b.runtimeMinutes, r.averageRating\n",
    "                                FROM imdb_basics AS b\n",
    "                                INNER JOIN imdb_ratings AS r\n",
    "                                ON b.tconst = r.tconst\n",
    "                                WHERE startYear > 2014) \n",
    "                                AS i\n",
    "                    ON LOWER(n.Title) = LOWER(i.primaryTitle) AND n.releaseYear = i.startYear\n",
    "                    WHERE (i.runtimeMinutes <= n.runtime_min +10 AND i.runtimeMinutes >= n.runtime_min -10)\n",
    "                    ) \n",
    "                    AS matched\n",
    "        ON og_n.Title = matched.Title\n",
    "        WHERE matched.Title IS NULL\n",
    "        LIMIT 10;\n",
    "        \"\"\"\n",
    "# \n",
    "out = cur.execute(query)\n",
    "names = list(map(lambda x: x[0], cur.description))\n",
    "print(names)\n",
    "for row in out: \n",
    "    print(row) "
   ]
  },
  {
   "cell_type": "markdown",
   "id": "042897f1-3414-4942-adb7-3a466ba1cb50",
   "metadata": {},
   "source": [
    "Check if IMDB has an entry for '7 años' as primaryTitle."
   ]
  },
  {
   "cell_type": "code",
   "execution_count": 14,
   "id": "eb0fcd0b-297d-45ad-8754-bbd135dab85a",
   "metadata": {},
   "outputs": [],
   "source": [
    "query = \"\"\"\n",
    "        SELECT *\n",
    "        FROM imdb_basics AS b\n",
    "        INNER JOIN imdb_ratings AS r\n",
    "        ON b.tconst = r.tconst\n",
    "        WHERE b.primaryTitle = '7 años';\n",
    "        \"\"\"\n",
    "for row in cur.execute(query): \n",
    "    print(row) "
   ]
  },
  {
   "cell_type": "markdown",
   "id": "f423f18b-1c5f-4b87-92ec-39c95dcef7f8",
   "metadata": {},
   "source": [
    "No matches? We might have better luck with originalTitle than primaryTitle since the title isn't in English."
   ]
  },
  {
   "cell_type": "code",
   "execution_count": 15,
   "id": "bc3e1cd8-6790-4862-b5fb-70348c2823de",
   "metadata": {},
   "outputs": [
    {
     "name": "stdout",
     "output_type": "stream",
     "text": [
      "('tt5517438', 'movie', '7 Years', '7 años', 0, 2016, None, 77, 'Drama', 'tt5517438', 6.7, 5424)\n"
     ]
    }
   ],
   "source": [
    "query = \"\"\"\n",
    "        SELECT *\n",
    "        FROM imdb_basics AS b\n",
    "        INNER JOIN imdb_ratings AS r\n",
    "        ON b.tconst = r.tconst\n",
    "        WHERE b.originalTitle = '7 años';\n",
    "        \"\"\"\n",
    "for row in cur.execute(query): \n",
    "    print(row) "
   ]
  },
  {
   "cell_type": "markdown",
   "id": "0ec30e12-bef8-4ce2-886c-f7914b02dc28",
   "metadata": {},
   "source": [
    "So, some of the netflix flims might use the title in the original language instead of the more popular title. Seems like we need to try comparing the title to the original title if the primary and original titles are different from each other."
   ]
  },
  {
   "cell_type": "code",
   "execution_count": 16,
   "id": "fbbfcdb6-f9a3-4c4e-accb-6ffbc945625b",
   "metadata": {},
   "outputs": [
    {
     "name": "stdout",
     "output_type": "stream",
     "text": [
      "['title', 'releaseDate', 'genre', 'runtime', 'language', 'filmType', 'runtime_min', 'releaseYear', 'title']\n",
      "('Imperial Dreams', 'February 3, 2017', 'Drama', '1 h 26 min', 'English', 'Feature films', 86, 2017, None)\n",
      "('Tramps', 'April 21, 2017', 'Romantic comedy', '1 h 23 min', 'English', 'Feature films', 83, 2017, None)\n",
      "('My Own Man', 'March 6, 2015', None, '1 h 21 min', 'English', 'Documentaries', 81, 2015, None)\n",
      "('The Other One: The Long Strange Trip of Bob Weir', 'May 22, 2015', None, '1 h 23 min', 'English', 'Documentaries', 83, 2015, None)\n",
      "('What Happened, Miss Simone?', 'June 26, 2015', None, '1 h 24 min', 'English', 'Documentaries', 84, 2015, None)\n",
      "('Tig', 'July 17, 2015', None, '1 h 20 min', 'English', 'Documentaries', 80, 2015, None)\n",
      "(\"Winter on Fire: Ukraine's Fight for Freedom\", 'October 9, 2015', None, '1 h 31 min', 'Ukrainian', 'Documentaries', 91, 2015, None)\n",
      "('My Beautiful Broken Brain', 'March 18, 2016', None, '1 h 31 min', 'English', 'Documentaries', 91, 2016, None)\n",
      "('Jim & Andy: The Great Beyond – Featuring a Very Special, Contractually Obligated Mention of Tony Clifton', 'November 17, 2017', None, '1 h 34 min', 'English', 'Documentaries', 94, 2017, None)\n",
      "(\"Barbra: The Music, The Mem'ries, The Magic\", 'November 22, 2017', 'Concert film', '1 h 48 min', 'English', 'Specials', 108, 2017, None)\n"
     ]
    }
   ],
   "source": [
    "# List non-matches with runtime +-10 and original title matching\n",
    "# Joining on primary title and original title separately and use UNION to combine the joined tables\n",
    "# Note that UNION ALL should yield the same results since when we're joining on original title, we're only subsetting the entries where\n",
    "# the primary title does not match the original title.\n",
    "query = \"\"\"\n",
    "        SELECT *\n",
    "        FROM netflix AS og_n\n",
    "        LEFT JOIN (SELECT n.title\n",
    "                    FROM netflix AS n\n",
    "                    LEFT JOIN (SELECT b.tconst, b.primaryTitle, b.startYear, b.runtimeMinutes, r.averageRating\n",
    "                                FROM imdb_basics AS b\n",
    "                                INNER JOIN imdb_ratings AS r\n",
    "                                ON b.tconst = r.tconst\n",
    "                                WHERE startYear > 2014) \n",
    "                                AS i\n",
    "                    ON LOWER(n.Title) = LOWER(i.primaryTitle) AND n.releaseYear = i.startYear\n",
    "                    WHERE (i.runtimeMinutes <= n.runtime_min +10 AND i.runtimeMinutes >= n.runtime_min -10)\n",
    "                    UNION\n",
    "                    SELECT n.title\n",
    "                    FROM netflix AS n\n",
    "                    LEFT JOIN (SELECT b.tconst, b.primaryTitle, b.startYear, b.runtimeMinutes, r.averageRating\n",
    "                                FROM imdb_basics AS b\n",
    "                                INNER JOIN imdb_ratings AS r\n",
    "                                ON b.tconst = r.tconst\n",
    "                                WHERE startYear > 2014 AND LOWER(primaryTitle) != LOWER(originalTitle) )\n",
    "                                AS i\n",
    "                    ON LOWER(n.Title) = LOWER(i.originalTitle) AND SUBSTR(n.releaseDate,-4,4) = i.startYear\n",
    "                    WHERE (i.runtimeMinutes <= n.runtime_min +10 AND i.runtimeMinutes >= n.runtime_min -10)\n",
    "                    )\n",
    "                    AS matched\n",
    "        ON og_n.Title = matched.Title\n",
    "        WHERE matched.Title IS NULL\n",
    "        LIMIT 10;\n",
    "        \"\"\"\n",
    "# \n",
    "out = cur.execute(query)\n",
    "names = list(map(lambda x: x[0], cur.description))\n",
    "print(names)\n",
    "for row in out: \n",
    "    print(row) "
   ]
  },
  {
   "cell_type": "markdown",
   "id": "e12b4f33-231f-4e99-b672-f43cff0755ed",
   "metadata": {},
   "source": [
    "Check for \"Tramps\" in IMDB"
   ]
  },
  {
   "cell_type": "code",
   "execution_count": 17,
   "id": "2c67f963-60cd-44a8-80bf-d19509fe41f8",
   "metadata": {
    "scrolled": true
   },
   "outputs": [
    {
     "name": "stdout",
     "output_type": "stream",
     "text": [
      "('Tramps', 'April 21, 2017', 'Romantic comedy', '1 h 23 min', 'English', 'Feature films', 83, 2017)\n",
      "('tt2184609', 'tvEpisode', 'Tramps', 'Tramps', 0, 2012, None, 12, 'Action,Comedy')\n",
      "('tt4991512', 'movie', 'Tramps', 'Tramps', 0, 2016, None, 82, 'Adventure,Romance')\n",
      "('tt9049178', 'movie', 'Tramps', 'Csavargók', 0, 2018, None, 62, 'Documentary')\n"
     ]
    }
   ],
   "source": [
    "# Print netflix entry for comparison\n",
    "query = \"\"\"\n",
    "        SELECT *\n",
    "        FROM netflix\n",
    "        WHERE title = \"Tramps\";\n",
    "        \"\"\"\n",
    "for row in cur.execute(query): \n",
    "    print(row) \n",
    "\n",
    "# Look for film 'Tramps'\n",
    "query = \"\"\"\n",
    "        SELECT *\n",
    "        FROM imdb_basics \n",
    "        WHERE primaryTitle = \"Tramps\" AND startYear > 2000;\n",
    "        \"\"\"\n",
    "for row in cur.execute(query): \n",
    "    print(row) "
   ]
  },
  {
   "cell_type": "markdown",
   "id": "0253f164-98db-4ba9-8299-8903caa0d433",
   "metadata": {},
   "source": [
    "Seems like it will be better to be more lenient on release year. Let's check some more entries."
   ]
  },
  {
   "cell_type": "code",
   "execution_count": 18,
   "id": "acd3b73b-697b-4747-a1bb-e15c1589374c",
   "metadata": {},
   "outputs": [
    {
     "name": "stdout",
     "output_type": "stream",
     "text": [
      "('Imperial Dreams', 'February 3, 2017', 'Drama', '1 h 26 min', 'English', 'Feature films', 86, 2017)\n",
      "('tt3331028', 'movie', 'Imperial Dreams', 'Imperial Dreams', 0, 2014, None, 87, 'Drama')\n"
     ]
    }
   ],
   "source": [
    "# Print netflix entry for comparison\n",
    "query = \"\"\"\n",
    "        SELECT *\n",
    "        FROM netflix\n",
    "        WHERE title = \"Imperial Dreams\";\n",
    "        \"\"\"\n",
    "for row in cur.execute(query): \n",
    "    print(row) \n",
    "\n",
    "# Look for film 'Tramps'\n",
    "query = \"\"\"\n",
    "        SELECT *\n",
    "        FROM imdb_basics \n",
    "        WHERE primaryTitle = \"Imperial Dreams\" AND startYear > 2000;\n",
    "        \"\"\"\n",
    "for row in cur.execute(query): \n",
    "    print(row) "
   ]
  },
  {
   "cell_type": "code",
   "execution_count": 20,
   "id": "5b972bdc-e601-4acf-9287-b447fb238cca",
   "metadata": {},
   "outputs": [
    {
     "name": "stdout",
     "output_type": "stream",
     "text": [
      "('My Own Man', 'March 6, 2015', None, '1 h 21 min', 'English', 'Documentaries', 81, 2015)\n",
      "('tt3356434', 'movie', 'My Own Man', 'My Own Man', 0, 2014, None, 82, 'Comedy,Documentary,Drama')\n",
      "('tt3432784', 'video', 'My Own Man', 'My Own Man', 0, 2014, None, 4, 'Music,Short')\n"
     ]
    }
   ],
   "source": [
    "# Print netflix entry for comparison\n",
    "query = \"\"\"\n",
    "        SELECT *\n",
    "        FROM netflix\n",
    "        WHERE title = \"My Own Man\";\n",
    "        \"\"\"\n",
    "for row in cur.execute(query): \n",
    "    print(row) \n",
    "\n",
    "query = \"\"\"\n",
    "        SELECT *\n",
    "        FROM imdb_basics \n",
    "        WHERE primaryTitle = \"My Own Man\" AND startYear > 2000;\n",
    "        \"\"\"\n",
    "for row in cur.execute(query): \n",
    "    print(row) "
   ]
  },
  {
   "cell_type": "code",
   "execution_count": 21,
   "id": "a8295d24-5fd0-4839-836b-67c5f79c00f5",
   "metadata": {},
   "outputs": [
    {
     "name": "stdout",
     "output_type": "stream",
     "text": [
      "('What Happened, Miss Simone?', 'June 26, 2015', None, '1 h 24 min', 'English', 'Documentaries', 84, 2015)\n",
      "('tt4284010', 'movie', 'What Happened, Miss Simone?', 'What Happened, Miss Simone?', 0, 2015, None, 101, 'Biography,Documentary,Music')\n"
     ]
    }
   ],
   "source": [
    "# Print netflix entry for comparison\n",
    "query = \"\"\"\n",
    "        SELECT *\n",
    "        FROM netflix\n",
    "        WHERE title = \"What Happened, Miss Simone?\";\n",
    "        \"\"\"\n",
    "for row in cur.execute(query): \n",
    "    print(row) \n",
    "\n",
    "query = \"\"\"\n",
    "        SELECT *\n",
    "        FROM imdb_basics \n",
    "        WHERE primaryTitle = \"What Happened, Miss Simone?\";\n",
    "        \"\"\"\n",
    "for row in cur.execute(query): \n",
    "    print(row) "
   ]
  },
  {
   "cell_type": "code",
   "execution_count": 22,
   "id": "9071478f-5573-4106-929e-64d5ef56df85",
   "metadata": {},
   "outputs": [
    {
     "name": "stdout",
     "output_type": "stream",
     "text": [
      "('Tig', 'July 17, 2015', None, '1 h 20 min', 'English', 'Documentaries', 80, 2015)\n",
      "('tt0835135', 'tvEpisode', 'Tig', 'Tig', 0, 2004, None, 22, 'Comedy,Documentary')\n",
      "('tt32029337', 'tvEpisode', 'Tig', 'Tig', 0, 2015, None, None, 'Comedy,Drama')\n",
      "('tt3986532', 'movie', 'Tig', 'Tig', 0, 2015, None, 95, 'Biography,Documentary')\n"
     ]
    }
   ],
   "source": [
    "# Print netflix entry for comparison\n",
    "query = \"\"\"\n",
    "        SELECT *\n",
    "        FROM netflix\n",
    "        WHERE title = \"Tig\";\n",
    "        \"\"\"\n",
    "for row in cur.execute(query): \n",
    "    print(row) \n",
    "\n",
    "query = \"\"\"\n",
    "        SELECT *\n",
    "        FROM imdb_basics \n",
    "        WHERE primaryTitle = \"Tig\";\n",
    "        \"\"\"\n",
    "for row in cur.execute(query): \n",
    "    print(row) "
   ]
  },
  {
   "cell_type": "code",
   "execution_count": 23,
   "id": "e9cfe6e5-86d0-4f05-9747-2fcda043999e",
   "metadata": {},
   "outputs": [
    {
     "name": "stdout",
     "output_type": "stream",
     "text": [
      "(\"Winter on Fire: Ukraine's Fight for Freedom\", 'October 9, 2015', None, '1 h 31 min', 'Ukrainian', 'Documentaries', 91, 2015)\n",
      "('tt4908644', 'movie', \"Winter on Fire: Ukraine's Fight for Freedom\", \"Winter on Fire: Ukraine's Fight for Freedom\", 0, 2015, None, 102, 'Documentary,History,War')\n"
     ]
    }
   ],
   "source": [
    "# Print netflix entry for comparison\n",
    "query = \"\"\"\n",
    "        SELECT *\n",
    "        FROM netflix\n",
    "        WHERE title = \"Winter on Fire: Ukraine's Fight for Freedom\";\n",
    "        \"\"\"\n",
    "for row in cur.execute(query): \n",
    "    print(row) \n",
    "\n",
    "query = \"\"\"\n",
    "        SELECT *\n",
    "        FROM imdb_basics \n",
    "        WHERE primaryTitle = \"Winter on Fire: Ukraine's Fight for Freedom\";\n",
    "        \"\"\"\n",
    "for row in cur.execute(query): \n",
    "    print(row) "
   ]
  },
  {
   "cell_type": "markdown",
   "id": "f716587d-c0b8-4834-b1e8-11ffa9e97a47",
   "metadata": {},
   "source": [
    "Some of IMDB entries that seem like a match have a very different runtime compared to Netflix. Let's ignore these for now and stick to the below criteria for matching films between Netflix and IMDB data.\n",
    "- match on Netflix title to IMDB primaryTitle\n",
    "- if IMDB primaryTitle is different from originalTitle, match Netflix title to IMDB originalTitle\n",
    "- limit results to where IMDB runtime is Netflix runtime +- 10 min\n",
    "- limit results to where IMDB startYear is Netflix releaseYear +- 1 year"
   ]
  },
  {
   "cell_type": "code",
   "execution_count": 25,
   "id": "7b4103ac-8d41-463d-b068-b7f5f9d4e16c",
   "metadata": {
    "scrolled": true
   },
   "outputs": [
    {
     "name": "stdout",
     "output_type": "stream",
     "text": [
      "(140,)\n"
     ]
    }
   ],
   "source": [
    "# Count non-matches with runtime +-10 and original title matching and release year more lenient +-1\n",
    "query = \"\"\"\n",
    "        SELECT COUNT(*)\n",
    "        FROM netflix AS og_n\n",
    "        LEFT JOIN (SELECT n.title\n",
    "                    FROM netflix AS n\n",
    "                    LEFT JOIN (SELECT b.tconst, b.primaryTitle, b.startYear, b.runtimeMinutes, r.averageRating\n",
    "                                FROM imdb_basics AS b\n",
    "                                INNER JOIN imdb_ratings AS r\n",
    "                                ON b.tconst = r.tconst\n",
    "                                WHERE startYear > 2014) \n",
    "                                AS i\n",
    "                    ON LOWER(n.Title) = LOWER(i.primaryTitle)\n",
    "                    WHERE (i.runtimeMinutes <= n.runtime_min +10 AND i.runtimeMinutes >= n.runtime_min -10)\n",
    "                    AND i.startYear <= n.releaseYear + 1 AND i.startYear >= n.releaseYear - 1\n",
    "                    UNION\n",
    "                    SELECT n.title\n",
    "                    FROM netflix AS n\n",
    "                    LEFT JOIN (SELECT b.tconst, b.primaryTitle, b.originalTitle, b.startYear, b.runtimeMinutes, r.averageRating\n",
    "                                FROM imdb_basics AS b\n",
    "                                INNER JOIN imdb_ratings AS r\n",
    "                                ON b.tconst = r.tconst\n",
    "                                WHERE startYear > 2014 AND LOWER(primaryTitle) != LOWER(originalTitle) )\n",
    "                                AS i\n",
    "                    ON LOWER(n.Title) = LOWER(i.originalTitle)\n",
    "                    WHERE (i.runtimeMinutes <= n.runtime_min +10 AND i.runtimeMinutes >= n.runtime_min -10)\n",
    "                    AND i.startYear <= n.releaseYear + 1 AND i.startYear >= n.releaseYear - 1\n",
    "                    )\n",
    "                    AS matched\n",
    "        ON og_n.Title = matched.Title\n",
    "        WHERE matched.Title IS NULL;\n",
    "        \"\"\"\n",
    "# \n",
    "out = cur.execute(query)\n",
    "for row in out: \n",
    "    print(row) "
   ]
  },
  {
   "cell_type": "code",
   "execution_count": 26,
   "id": "7ab218d8-d383-47aa-82c1-9540ab30a24d",
   "metadata": {},
   "outputs": [
    {
     "name": "stdout",
     "output_type": "stream",
     "text": [
      "(1413,)\n"
     ]
    }
   ],
   "source": [
    "# Print the number of total Netflix films\n",
    "query = \"\"\"\n",
    "        SELECT COUNT(*)\n",
    "        FROM netflix;\n",
    "        \"\"\"\n",
    "# Print output of the query\n",
    "for row in cur.execute(query): \n",
    "    print(row) "
   ]
  },
  {
   "cell_type": "markdown",
   "id": "01ed9ded-a36f-4a99-a346-ec9161af039c",
   "metadata": {},
   "source": [
    "Currently, there are 140 non-matches out of 1413 Netflix films in the data. There's definitely room for improvement to reduce these non-matches, but let's move on for now and save the query results out as a dataframe and then a csv file for further analysis."
   ]
  },
  {
   "cell_type": "code",
   "execution_count": 28,
   "id": "e0a0a2c2-722b-4b67-ac5e-f0c1ec34d6e3",
   "metadata": {},
   "outputs": [
    {
     "data": {
      "text/html": [
       "<div>\n",
       "<style scoped>\n",
       "    .dataframe tbody tr th:only-of-type {\n",
       "        vertical-align: middle;\n",
       "    }\n",
       "\n",
       "    .dataframe tbody tr th {\n",
       "        vertical-align: top;\n",
       "    }\n",
       "\n",
       "    .dataframe thead th {\n",
       "        text-align: right;\n",
       "    }\n",
       "</style>\n",
       "<table border=\"1\" class=\"dataframe\">\n",
       "  <thead>\n",
       "    <tr style=\"text-align: right;\">\n",
       "      <th></th>\n",
       "      <th>title</th>\n",
       "      <th>releaseDate</th>\n",
       "      <th>genre</th>\n",
       "      <th>language</th>\n",
       "      <th>filmType</th>\n",
       "      <th>runtime</th>\n",
       "      <th>tconst</th>\n",
       "      <th>averageRating</th>\n",
       "      <th>numVotes</th>\n",
       "    </tr>\n",
       "  </thead>\n",
       "  <tbody>\n",
       "    <tr>\n",
       "      <th>0</th>\n",
       "      <td>#realityhigh</td>\n",
       "      <td>September 8, 2017</td>\n",
       "      <td>Teen comedy</td>\n",
       "      <td>English</td>\n",
       "      <td>Feature films</td>\n",
       "      <td>99</td>\n",
       "      <td>tt6119504</td>\n",
       "      <td>5.1</td>\n",
       "      <td>7071</td>\n",
       "    </tr>\n",
       "    <tr>\n",
       "      <th>1</th>\n",
       "      <td>(Un)lucky Sisters</td>\n",
       "      <td>August 30, 2024</td>\n",
       "      <td>Comedy</td>\n",
       "      <td>Spanish</td>\n",
       "      <td>Feature films</td>\n",
       "      <td>83</td>\n",
       "      <td>tt33054529</td>\n",
       "      <td>5.2</td>\n",
       "      <td>825</td>\n",
       "    </tr>\n",
       "    <tr>\n",
       "      <th>2</th>\n",
       "      <td>10 Days of a Bad Man</td>\n",
       "      <td>August 18, 2023</td>\n",
       "      <td>Drama</td>\n",
       "      <td>Turkish</td>\n",
       "      <td>Feature films</td>\n",
       "      <td>124</td>\n",
       "      <td>tt24852002</td>\n",
       "      <td>6.1</td>\n",
       "      <td>3170</td>\n",
       "    </tr>\n",
       "    <tr>\n",
       "      <th>3</th>\n",
       "      <td>10 Days of a Curious Man</td>\n",
       "      <td>November 7, 2024</td>\n",
       "      <td>Drama</td>\n",
       "      <td>Turkish</td>\n",
       "      <td>Feature films</td>\n",
       "      <td>110</td>\n",
       "      <td>tt28713370</td>\n",
       "      <td>5.8</td>\n",
       "      <td>1119</td>\n",
       "    </tr>\n",
       "    <tr>\n",
       "      <th>4</th>\n",
       "      <td>10 Days of a Good Man</td>\n",
       "      <td>March 3, 2023</td>\n",
       "      <td>Drama</td>\n",
       "      <td>Turkish</td>\n",
       "      <td>Feature films</td>\n",
       "      <td>124</td>\n",
       "      <td>tt23334464</td>\n",
       "      <td>6.5</td>\n",
       "      <td>6031</td>\n",
       "    </tr>\n",
       "  </tbody>\n",
       "</table>\n",
       "</div>"
      ],
      "text/plain": [
       "                      title        releaseDate        genre language  \\\n",
       "0              #realityhigh  September 8, 2017  Teen comedy  English   \n",
       "1         (Un)lucky Sisters    August 30, 2024       Comedy  Spanish   \n",
       "2      10 Days of a Bad Man    August 18, 2023        Drama  Turkish   \n",
       "3  10 Days of a Curious Man   November 7, 2024        Drama  Turkish   \n",
       "4     10 Days of a Good Man      March 3, 2023        Drama  Turkish   \n",
       "\n",
       "        filmType  runtime      tconst  averageRating  numVotes  \n",
       "0  Feature films       99   tt6119504            5.1      7071  \n",
       "1  Feature films       83  tt33054529            5.2       825  \n",
       "2  Feature films      124  tt24852002            6.1      3170  \n",
       "3  Feature films      110  tt28713370            5.8      1119  \n",
       "4  Feature films      124  tt23334464            6.5      6031  "
      ]
     },
     "execution_count": 28,
     "metadata": {},
     "output_type": "execute_result"
    }
   ],
   "source": [
    "# Count non-matches with runtime +-10 and original title matching and release year more lenient +-1\n",
    "query = \"\"\"\n",
    "        SELECT title, releaseDate, genre, language, filmType, runtime_min AS runtime, tconst, averageRating, numVotes\n",
    "        FROM netflix AS n\n",
    "        LEFT JOIN (SELECT b.tconst, b.primaryTitle, b.startYear, b.runtimeMinutes, r.averageRating, r.numVotes\n",
    "                    FROM imdb_basics AS b\n",
    "                    INNER JOIN imdb_ratings AS r\n",
    "                    ON b.tconst = r.tconst\n",
    "                    WHERE startYear > 2014) \n",
    "                    AS i\n",
    "        ON LOWER(n.Title) = LOWER(i.primaryTitle)\n",
    "        WHERE (i.runtimeMinutes <= n.runtime_min +10 AND i.runtimeMinutes >= n.runtime_min -10)\n",
    "        AND i.startYear <= n.releaseYear + 1 AND i.startYear >= n.releaseYear - 1\n",
    "        UNION\n",
    "        SELECT title, releaseDate, genre, language, filmType, runtime_min AS runtime, tconst, averageRating, numVotes\n",
    "        FROM netflix AS n\n",
    "        LEFT JOIN (SELECT b.tconst, b.primaryTitle, b.originalTitle, b.startYear, b.runtimeMinutes, r.averageRating, r.numVotes\n",
    "                    FROM imdb_basics AS b\n",
    "                    INNER JOIN imdb_ratings AS r\n",
    "                    ON b.tconst = r.tconst\n",
    "                    WHERE startYear > 2014 AND LOWER(primaryTitle) != LOWER(originalTitle) )\n",
    "                    AS i\n",
    "        ON LOWER(n.Title) = LOWER(i.originalTitle)\n",
    "        WHERE (i.runtimeMinutes <= n.runtime_min +10 AND i.runtimeMinutes >= n.runtime_min -10)\n",
    "        AND i.startYear <= n.releaseYear + 1 AND i.startYear >= n.releaseYear - 1;\n",
    "        \"\"\"\n",
    "# Load data into Pandas DataFrame\n",
    "df = pd.read_sql_query(query, conn)\n",
    "df.head()"
   ]
  },
  {
   "cell_type": "code",
   "execution_count": 29,
   "id": "fcca9920-6932-4148-8bb0-fd2c1ef7c0f0",
   "metadata": {},
   "outputs": [
    {
     "name": "stdout",
     "output_type": "stream",
     "text": [
      "<class 'pandas.core.frame.DataFrame'>\n",
      "RangeIndex: 1324 entries, 0 to 1323\n",
      "Data columns (total 9 columns):\n",
      " #   Column         Non-Null Count  Dtype  \n",
      "---  ------         --------------  -----  \n",
      " 0   title          1324 non-null   object \n",
      " 1   releaseDate    1324 non-null   object \n",
      " 2   genre          1017 non-null   object \n",
      " 3   language       1324 non-null   object \n",
      " 4   filmType       1324 non-null   object \n",
      " 5   runtime        1324 non-null   int64  \n",
      " 6   tconst         1324 non-null   object \n",
      " 7   averageRating  1324 non-null   float64\n",
      " 8   numVotes       1324 non-null   int64  \n",
      "dtypes: float64(1), int64(2), object(6)\n",
      "memory usage: 93.2+ KB\n"
     ]
    }
   ],
   "source": [
    "df.info()"
   ]
  },
  {
   "cell_type": "markdown",
   "id": "0f16a50a-f698-46e6-ab83-dfb233fe467c",
   "metadata": {},
   "source": [
    "Save out to a csv file."
   ]
  },
  {
   "cell_type": "code",
   "execution_count": 30,
   "id": "646abf8c-e015-4156-8a9f-8d44641a7d2e",
   "metadata": {},
   "outputs": [],
   "source": [
    "df.to_csv('netflix_w_ratings_IMDB.csv',encoding='utf-8-sig',index=False) # using utf-8-sig for special characters in the title"
   ]
  },
  {
   "cell_type": "code",
   "execution_count": 31,
   "id": "fab31f26-fdab-49b3-a0c9-24fc8f999590",
   "metadata": {},
   "outputs": [],
   "source": [
    "# Close connection to SQLite database \n",
    "conn.close() "
   ]
  }
 ],
 "metadata": {
  "kernelspec": {
   "display_name": "Python 3 (ipykernel)",
   "language": "python",
   "name": "python3"
  },
  "language_info": {
   "codemirror_mode": {
    "name": "ipython",
    "version": 3
   },
   "file_extension": ".py",
   "mimetype": "text/x-python",
   "name": "python",
   "nbconvert_exporter": "python",
   "pygments_lexer": "ipython3",
   "version": "3.12.9"
  }
 },
 "nbformat": 4,
 "nbformat_minor": 5
}
