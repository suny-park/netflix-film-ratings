{
 "cells": [
  {
   "cell_type": "code",
   "execution_count": 9,
   "id": "dd127463-53f8-4230-b9a3-133163152357",
   "metadata": {},
   "outputs": [
    {
     "name": "stdout",
     "output_type": "stream",
     "text": [
      "Downloading from https://www.kaggle.com/api/v1/datasets/download/andrezaza/clapper-massive-rotten-tomatoes-movies-and-reviews?dataset_version_number=4...\n"
     ]
    },
    {
     "name": "stderr",
     "output_type": "stream",
     "text": [
      "100%|███████████████████████████████████████████████████████████████████████████████| 152M/152M [00:05<00:00, 28.3MB/s]"
     ]
    },
    {
     "name": "stdout",
     "output_type": "stream",
     "text": [
      "Extracting files...\n"
     ]
    },
    {
     "name": "stderr",
     "output_type": "stream",
     "text": [
      "\n"
     ]
    },
    {
     "name": "stdout",
     "output_type": "stream",
     "text": [
      "Path to dataset files: C:\\Users\\suny5\\.cache\\kagglehub\\datasets\\andrezaza\\clapper-massive-rotten-tomatoes-movies-and-reviews\\versions\\4\n"
     ]
    }
   ],
   "source": [
    "# Install dependencies as needed:\n",
    "# !pip install --upgrade kagglehub\n",
    "import kagglehub\n",
    "\n",
    "# Download latest version\n",
    "path = kagglehub.dataset_download(\"andrezaza/clapper-massive-rotten-tomatoes-movies-and-reviews\",force_download=True)\n",
    "\n",
    "print(\"Path to dataset files:\", path)"
   ]
  },
  {
   "cell_type": "code",
   "execution_count": 10,
   "id": "5e4eeb8c-4db4-4bb6-a23f-db9e1e17a414",
   "metadata": {},
   "outputs": [
    {
     "name": "stderr",
     "output_type": "stream",
     "text": [
      "'ls' is not recognized as an internal or external command,\n",
      "operable program or batch file.\n"
     ]
    },
    {
     "name": "stdout",
     "output_type": "stream",
     "text": [
      " Volume in drive C is Windows\n",
      " Volume Serial Number is 7047-86E7\n",
      "\n",
      " Directory of C:\\Users\\suny5\\.cache\\kagglehub\\datasets\\andrezaza\\clapper-massive-rotten-tomatoes-movies-and-reviews\\versions\\4\n",
      "\n",
      "03/05/2025  11:26 AM    <DIR>          .\n",
      "03/05/2025  11:08 AM    <DIR>          ..\n",
      "03/05/2025  11:26 AM        17,396,636 rotten_tomatoes_movies.csv\n",
      "03/05/2025  11:26 AM       410,691,413 rotten_tomatoes_movie_reviews.csv\n",
      "               2 File(s)    428,088,049 bytes\n",
      "               2 Dir(s)  419,652,173,824 bytes free\n"
     ]
    }
   ],
   "source": [
    "# check if the files are successfully downloaded in the said path\n",
    "# on Mac\n",
    "!ls -alh $path\n",
    "# on Windows\n",
    "!dir $path "
   ]
  },
  {
   "cell_type": "markdown",
   "id": "2a9caeb2-afcf-4554-962a-f5e8828ce4f0",
   "metadata": {},
   "source": [
    "## Using the _movies.csv file that contains basic information and ratings for each movie.\n",
    "\n",
    "### rotten_tomatoes_movies.csv - Each record represents a movie available on Rotten Tomatoes and includes all fields available on the website\n",
    "*Note that 'rating' field here refers to the age-based rating (e.g. G) and not the rating by viewers.\n",
    "\n",
    "- id - Unique identifier for each movie\n",
    "- title - The title of the movie\n",
    "- audienceScore - The average score given by regular viewers\n",
    "- tomatoMeter - The percentage of positive reviews from professional critics\n",
    "- rating - The movie's age-based classification (e.g., G, PG, PG-13, R)\n",
    "- ratingContents - Content leading to the rating classification\n",
    "- releaseDateTheaters - The date the movie was released in theaters\n",
    "- releaseDateStreaming - The date the movie became available for streaming\n",
    "- runtimeMinutes - The duration of the movie in minutes\n",
    "- genre - The movie's genre(s)\n",
    "- originalLanguage - The original language of the movie\n",
    "- director - The movie's director\n",
    "- writer - The writer(s) responsible for the movie's screenplay\n",
    "- boxOffice - The movie's total box office revenue\n",
    "- distributer - The company responsible for distributing the movie\n",
    "- soundMix - The audio format(s) used in the movie"
   ]
  },
  {
   "cell_type": "markdown",
   "id": "1889f18c-e4cd-466a-b97e-95f3f69e1835",
   "metadata": {},
   "source": [
    "Load the two tsv files to dataframes and then write to a sqlite table."
   ]
  },
  {
   "cell_type": "code",
   "execution_count": 5,
   "id": "9e860329-3f6a-47b6-88f1-653d3bbe0e23",
   "metadata": {},
   "outputs": [],
   "source": [
    "import pandas as pd\n",
    "import os\n",
    "import sqlite3 "
   ]
  },
  {
   "cell_type": "code",
   "execution_count": 11,
   "id": "2a3de2f7-8995-42ce-bea3-4e87860be6e3",
   "metadata": {},
   "outputs": [
    {
     "name": "stdout",
     "output_type": "stream",
     "text": [
      "<class 'pandas.core.frame.DataFrame'>\n",
      "RangeIndex: 143258 entries, 0 to 143257\n",
      "Data columns (total 16 columns):\n",
      " #   Column                Non-Null Count   Dtype \n",
      "---  ------                --------------   ----- \n",
      " 0   id                    143258 non-null  string\n",
      " 1   title                 142891 non-null  string\n",
      " 2   audienceScore         73248 non-null   Int64 \n",
      " 3   tomatoMeter           33877 non-null   Int64 \n",
      " 4   rating                13991 non-null   string\n",
      " 5   ratingContents        13991 non-null   string\n",
      " 6   releaseDateTheaters   30773 non-null   string\n",
      " 7   releaseDateStreaming  79420 non-null   string\n",
      " 8   runtimeMinutes        129431 non-null  Int64 \n",
      " 9   genre                 132175 non-null  string\n",
      " 10  originalLanguage      129400 non-null  string\n",
      " 11  director              139041 non-null  string\n",
      " 12  writer                90116 non-null   string\n",
      " 13  boxOffice             14743 non-null   string\n",
      " 14  distributor           23001 non-null   string\n",
      " 15  soundMix              15917 non-null   string\n",
      "dtypes: Int64(3), string(13)\n",
      "memory usage: 17.9 MB\n"
     ]
    }
   ],
   "source": [
    "# Load CSV file into a DataFrame\n",
    "df_rt = pd.read_csv(os.path.join(path,\"rotten_tomatoes_movies.csv\"))\n",
    "df_rt = df_rt.convert_dtypes()\n",
    "df_rt.info()"
   ]
  },
  {
   "cell_type": "code",
   "execution_count": 12,
   "id": "9d3b00b1-b029-4a1b-a75d-bf78717073ca",
   "metadata": {
    "scrolled": true
   },
   "outputs": [
    {
     "data": {
      "text/html": [
       "<div>\n",
       "<style scoped>\n",
       "    .dataframe tbody tr th:only-of-type {\n",
       "        vertical-align: middle;\n",
       "    }\n",
       "\n",
       "    .dataframe tbody tr th {\n",
       "        vertical-align: top;\n",
       "    }\n",
       "\n",
       "    .dataframe thead th {\n",
       "        text-align: right;\n",
       "    }\n",
       "</style>\n",
       "<table border=\"1\" class=\"dataframe\">\n",
       "  <thead>\n",
       "    <tr style=\"text-align: right;\">\n",
       "      <th></th>\n",
       "      <th>id</th>\n",
       "      <th>title</th>\n",
       "      <th>audienceScore</th>\n",
       "      <th>tomatoMeter</th>\n",
       "      <th>rating</th>\n",
       "      <th>ratingContents</th>\n",
       "      <th>releaseDateTheaters</th>\n",
       "      <th>releaseDateStreaming</th>\n",
       "      <th>runtimeMinutes</th>\n",
       "      <th>genre</th>\n",
       "      <th>originalLanguage</th>\n",
       "      <th>director</th>\n",
       "      <th>writer</th>\n",
       "      <th>boxOffice</th>\n",
       "      <th>distributor</th>\n",
       "      <th>soundMix</th>\n",
       "    </tr>\n",
       "  </thead>\n",
       "  <tbody>\n",
       "    <tr>\n",
       "      <th>0</th>\n",
       "      <td>space-zombie-bingo</td>\n",
       "      <td>Space Zombie Bingo!</td>\n",
       "      <td>50</td>\n",
       "      <td>&lt;NA&gt;</td>\n",
       "      <td>&lt;NA&gt;</td>\n",
       "      <td>&lt;NA&gt;</td>\n",
       "      <td>&lt;NA&gt;</td>\n",
       "      <td>2018-08-25</td>\n",
       "      <td>75</td>\n",
       "      <td>Comedy, Horror, Sci-fi</td>\n",
       "      <td>English</td>\n",
       "      <td>George Ormrod</td>\n",
       "      <td>George Ormrod,John Sabotta</td>\n",
       "      <td>&lt;NA&gt;</td>\n",
       "      <td>&lt;NA&gt;</td>\n",
       "      <td>&lt;NA&gt;</td>\n",
       "    </tr>\n",
       "    <tr>\n",
       "      <th>1</th>\n",
       "      <td>the_green_grass</td>\n",
       "      <td>The Green Grass</td>\n",
       "      <td>&lt;NA&gt;</td>\n",
       "      <td>&lt;NA&gt;</td>\n",
       "      <td>&lt;NA&gt;</td>\n",
       "      <td>&lt;NA&gt;</td>\n",
       "      <td>&lt;NA&gt;</td>\n",
       "      <td>2020-02-11</td>\n",
       "      <td>114</td>\n",
       "      <td>Drama</td>\n",
       "      <td>English</td>\n",
       "      <td>Tiffany Edwards</td>\n",
       "      <td>Tiffany Edwards</td>\n",
       "      <td>&lt;NA&gt;</td>\n",
       "      <td>&lt;NA&gt;</td>\n",
       "      <td>&lt;NA&gt;</td>\n",
       "    </tr>\n",
       "    <tr>\n",
       "      <th>2</th>\n",
       "      <td>love_lies</td>\n",
       "      <td>Love, Lies</td>\n",
       "      <td>43</td>\n",
       "      <td>&lt;NA&gt;</td>\n",
       "      <td>&lt;NA&gt;</td>\n",
       "      <td>&lt;NA&gt;</td>\n",
       "      <td>&lt;NA&gt;</td>\n",
       "      <td>&lt;NA&gt;</td>\n",
       "      <td>120</td>\n",
       "      <td>Drama</td>\n",
       "      <td>Korean</td>\n",
       "      <td>Park Heung-Sik,Heung-Sik Park</td>\n",
       "      <td>Ha Young-Joon,Jeon Yun-su,Song Hye-jin</td>\n",
       "      <td>&lt;NA&gt;</td>\n",
       "      <td>&lt;NA&gt;</td>\n",
       "      <td>&lt;NA&gt;</td>\n",
       "    </tr>\n",
       "    <tr>\n",
       "      <th>3</th>\n",
       "      <td>the_sore_losers_1997</td>\n",
       "      <td>Sore Losers</td>\n",
       "      <td>60</td>\n",
       "      <td>&lt;NA&gt;</td>\n",
       "      <td>&lt;NA&gt;</td>\n",
       "      <td>&lt;NA&gt;</td>\n",
       "      <td>&lt;NA&gt;</td>\n",
       "      <td>2020-10-23</td>\n",
       "      <td>90</td>\n",
       "      <td>Action, Mystery &amp; thriller</td>\n",
       "      <td>English</td>\n",
       "      <td>John Michael McCarthy</td>\n",
       "      <td>John Michael McCarthy</td>\n",
       "      <td>&lt;NA&gt;</td>\n",
       "      <td>&lt;NA&gt;</td>\n",
       "      <td>&lt;NA&gt;</td>\n",
       "    </tr>\n",
       "    <tr>\n",
       "      <th>4</th>\n",
       "      <td>dinosaur_island_2002</td>\n",
       "      <td>Dinosaur Island</td>\n",
       "      <td>70</td>\n",
       "      <td>&lt;NA&gt;</td>\n",
       "      <td>&lt;NA&gt;</td>\n",
       "      <td>&lt;NA&gt;</td>\n",
       "      <td>&lt;NA&gt;</td>\n",
       "      <td>2017-03-27</td>\n",
       "      <td>80</td>\n",
       "      <td>Fantasy, Adventure, Animation</td>\n",
       "      <td>English</td>\n",
       "      <td>Will Meugniot</td>\n",
       "      <td>John Loy</td>\n",
       "      <td>&lt;NA&gt;</td>\n",
       "      <td>&lt;NA&gt;</td>\n",
       "      <td>&lt;NA&gt;</td>\n",
       "    </tr>\n",
       "  </tbody>\n",
       "</table>\n",
       "</div>"
      ],
      "text/plain": [
       "                     id                title  audienceScore  tomatoMeter  \\\n",
       "0    space-zombie-bingo  Space Zombie Bingo!             50         <NA>   \n",
       "1       the_green_grass      The Green Grass           <NA>         <NA>   \n",
       "2             love_lies           Love, Lies             43         <NA>   \n",
       "3  the_sore_losers_1997          Sore Losers             60         <NA>   \n",
       "4  dinosaur_island_2002      Dinosaur Island             70         <NA>   \n",
       "\n",
       "  rating ratingContents releaseDateTheaters releaseDateStreaming  \\\n",
       "0   <NA>           <NA>                <NA>           2018-08-25   \n",
       "1   <NA>           <NA>                <NA>           2020-02-11   \n",
       "2   <NA>           <NA>                <NA>                 <NA>   \n",
       "3   <NA>           <NA>                <NA>           2020-10-23   \n",
       "4   <NA>           <NA>                <NA>           2017-03-27   \n",
       "\n",
       "   runtimeMinutes                          genre originalLanguage  \\\n",
       "0              75         Comedy, Horror, Sci-fi          English   \n",
       "1             114                          Drama          English   \n",
       "2             120                          Drama           Korean   \n",
       "3              90     Action, Mystery & thriller          English   \n",
       "4              80  Fantasy, Adventure, Animation          English   \n",
       "\n",
       "                        director                                  writer  \\\n",
       "0                  George Ormrod              George Ormrod,John Sabotta   \n",
       "1                Tiffany Edwards                         Tiffany Edwards   \n",
       "2  Park Heung-Sik,Heung-Sik Park  Ha Young-Joon,Jeon Yun-su,Song Hye-jin   \n",
       "3          John Michael McCarthy                   John Michael McCarthy   \n",
       "4                  Will Meugniot                                John Loy   \n",
       "\n",
       "  boxOffice distributor soundMix  \n",
       "0      <NA>        <NA>     <NA>  \n",
       "1      <NA>        <NA>     <NA>  \n",
       "2      <NA>        <NA>     <NA>  \n",
       "3      <NA>        <NA>     <NA>  \n",
       "4      <NA>        <NA>     <NA>  "
      ]
     },
     "execution_count": 12,
     "metadata": {},
     "output_type": "execute_result"
    }
   ],
   "source": [
    "df_rt.head()"
   ]
  },
  {
   "cell_type": "markdown",
   "id": "6d1318e7-603c-4c1d-b415-ed8cef634866",
   "metadata": {},
   "source": [
    "Cleaning the data and adding some more informative columns that can be used to match entries between datasets.\n",
    "- add releaseYear column from releaseDateTheaters and releaseDateStreaming, use the earlier one if both exists and do not match.\n",
    "- remove entries that don't have both audienceScore and tomatoMeter"
   ]
  },
  {
   "cell_type": "code",
   "execution_count": 13,
   "id": "2717f733-0c7e-4946-9f32-42d2ca1e7558",
   "metadata": {},
   "outputs": [],
   "source": [
    "import datetime"
   ]
  },
  {
   "cell_type": "code",
   "execution_count": 48,
   "id": "04960d10-b656-46cd-9619-e0e23d45aea1",
   "metadata": {},
   "outputs": [],
   "source": [
    "test = np.where(df_rt['releaseDateStreaming'].fillna('nan').str.len() == 10, df_rt['releaseDateStreaming'],np.nan)"
   ]
  },
  {
   "cell_type": "code",
   "execution_count": 58,
   "id": "ee38d4c9-40c0-43d4-a779-e4b243dd95ce",
   "metadata": {},
   "outputs": [],
   "source": [
    "test2 = pd.to_datetime(test,format='ISO8601')"
   ]
  },
  {
   "cell_type": "code",
   "execution_count": 59,
   "id": "888d5273-e6e8-4260-ba8b-a14be02ee0dd",
   "metadata": {},
   "outputs": [],
   "source": [
    "test_year = test2.year"
   ]
  },
  {
   "cell_type": "code",
   "execution_count": 66,
   "id": "b2bfa1ac-2aa7-444d-a99f-73319f01bf8e",
   "metadata": {},
   "outputs": [
    {
     "data": {
      "text/plain": [
       "Index([2018, 2020,   -1, 2020, 2017, 2018, 2015,   -1,   -1, 2016,\n",
       "       ...\n",
       "         -1, 2016, 2013, 2017, 2019,   -1,   -1,   -1, 2006,   -1],\n",
       "      dtype='int32', length=143258)"
      ]
     },
     "execution_count": 66,
     "metadata": {},
     "output_type": "execute_result"
    }
   ],
   "source": [
    "test_year.fillna(-1).astype(int)"
   ]
  },
  {
   "cell_type": "code",
   "execution_count": 40,
   "id": "e8785f31-18ce-4e5b-bb80-e69b116f20ce",
   "metadata": {},
   "outputs": [
    {
     "ename": "ValueError",
     "evalue": "Time data 1-01-01 is not ISO8601 format, at position 4446. You might want to try:\n    - passing `format` if your strings have a consistent format;\n    - passing `format='ISO8601'` if your strings are all ISO8601 but not necessarily in exactly the same format;\n    - passing `format='mixed'`, and the format will be inferred for each element individually. You might want to use `dayfirst` alongside this.",
     "output_type": "error",
     "traceback": [
      "\u001b[1;31m---------------------------------------------------------------------------\u001b[0m",
      "\u001b[1;31mValueError\u001b[0m                                Traceback (most recent call last)",
      "Cell \u001b[1;32mIn[40], line 1\u001b[0m\n\u001b[1;32m----> 1\u001b[0m test \u001b[38;5;241m=\u001b[39m pd\u001b[38;5;241m.\u001b[39mto_datetime(df_rt[\u001b[38;5;124m'\u001b[39m\u001b[38;5;124mreleaseDateStreaming\u001b[39m\u001b[38;5;124m'\u001b[39m],\u001b[38;5;28mformat\u001b[39m\u001b[38;5;241m=\u001b[39m\u001b[38;5;124m'\u001b[39m\u001b[38;5;124mISO8601\u001b[39m\u001b[38;5;124m'\u001b[39m)\n",
      "File \u001b[1;32m~\\Documents\\Projects\\netflix-film-ratings\\envs\\Lib\\site-packages\\pandas\\core\\tools\\datetimes.py:1063\u001b[0m, in \u001b[0;36mto_datetime\u001b[1;34m(arg, errors, dayfirst, yearfirst, utc, format, exact, unit, infer_datetime_format, origin, cache)\u001b[0m\n\u001b[0;32m   1061\u001b[0m             result \u001b[38;5;241m=\u001b[39m arg\u001b[38;5;241m.\u001b[39mtz_localize(\u001b[38;5;124m\"\u001b[39m\u001b[38;5;124mutc\u001b[39m\u001b[38;5;124m\"\u001b[39m)\n\u001b[0;32m   1062\u001b[0m \u001b[38;5;28;01melif\u001b[39;00m \u001b[38;5;28misinstance\u001b[39m(arg, ABCSeries):\n\u001b[1;32m-> 1063\u001b[0m     cache_array \u001b[38;5;241m=\u001b[39m _maybe_cache(arg, \u001b[38;5;28mformat\u001b[39m, cache, convert_listlike)\n\u001b[0;32m   1064\u001b[0m     \u001b[38;5;28;01mif\u001b[39;00m \u001b[38;5;129;01mnot\u001b[39;00m cache_array\u001b[38;5;241m.\u001b[39mempty:\n\u001b[0;32m   1065\u001b[0m         result \u001b[38;5;241m=\u001b[39m arg\u001b[38;5;241m.\u001b[39mmap(cache_array)\n",
      "File \u001b[1;32m~\\Documents\\Projects\\netflix-film-ratings\\envs\\Lib\\site-packages\\pandas\\core\\tools\\datetimes.py:247\u001b[0m, in \u001b[0;36m_maybe_cache\u001b[1;34m(arg, format, cache, convert_listlike)\u001b[0m\n\u001b[0;32m    245\u001b[0m unique_dates \u001b[38;5;241m=\u001b[39m unique(arg)\n\u001b[0;32m    246\u001b[0m \u001b[38;5;28;01mif\u001b[39;00m \u001b[38;5;28mlen\u001b[39m(unique_dates) \u001b[38;5;241m<\u001b[39m \u001b[38;5;28mlen\u001b[39m(arg):\n\u001b[1;32m--> 247\u001b[0m     cache_dates \u001b[38;5;241m=\u001b[39m convert_listlike(unique_dates, \u001b[38;5;28mformat\u001b[39m)\n\u001b[0;32m    248\u001b[0m     \u001b[38;5;66;03m# GH#45319\u001b[39;00m\n\u001b[0;32m    249\u001b[0m     \u001b[38;5;28;01mtry\u001b[39;00m:\n",
      "File \u001b[1;32m~\\Documents\\Projects\\netflix-film-ratings\\envs\\Lib\\site-packages\\pandas\\core\\tools\\datetimes.py:433\u001b[0m, in \u001b[0;36m_convert_listlike_datetimes\u001b[1;34m(arg, format, name, utc, unit, errors, dayfirst, yearfirst, exact)\u001b[0m\n\u001b[0;32m    431\u001b[0m \u001b[38;5;66;03m# `format` could be inferred, or user didn't ask for mixed-format parsing.\u001b[39;00m\n\u001b[0;32m    432\u001b[0m \u001b[38;5;28;01mif\u001b[39;00m \u001b[38;5;28mformat\u001b[39m \u001b[38;5;129;01mis\u001b[39;00m \u001b[38;5;129;01mnot\u001b[39;00m \u001b[38;5;28;01mNone\u001b[39;00m \u001b[38;5;129;01mand\u001b[39;00m \u001b[38;5;28mformat\u001b[39m \u001b[38;5;241m!=\u001b[39m \u001b[38;5;124m\"\u001b[39m\u001b[38;5;124mmixed\u001b[39m\u001b[38;5;124m\"\u001b[39m:\n\u001b[1;32m--> 433\u001b[0m     \u001b[38;5;28;01mreturn\u001b[39;00m _array_strptime_with_fallback(arg, name, utc, \u001b[38;5;28mformat\u001b[39m, exact, errors)\n\u001b[0;32m    435\u001b[0m result, tz_parsed \u001b[38;5;241m=\u001b[39m objects_to_datetime64(\n\u001b[0;32m    436\u001b[0m     arg,\n\u001b[0;32m    437\u001b[0m     dayfirst\u001b[38;5;241m=\u001b[39mdayfirst,\n\u001b[1;32m   (...)\u001b[0m\n\u001b[0;32m    441\u001b[0m     allow_object\u001b[38;5;241m=\u001b[39m\u001b[38;5;28;01mTrue\u001b[39;00m,\n\u001b[0;32m    442\u001b[0m )\n\u001b[0;32m    444\u001b[0m \u001b[38;5;28;01mif\u001b[39;00m tz_parsed \u001b[38;5;129;01mis\u001b[39;00m \u001b[38;5;129;01mnot\u001b[39;00m \u001b[38;5;28;01mNone\u001b[39;00m:\n\u001b[0;32m    445\u001b[0m     \u001b[38;5;66;03m# We can take a shortcut since the datetime64 numpy array\u001b[39;00m\n\u001b[0;32m    446\u001b[0m     \u001b[38;5;66;03m# is in UTC\u001b[39;00m\n",
      "File \u001b[1;32m~\\Documents\\Projects\\netflix-film-ratings\\envs\\Lib\\site-packages\\pandas\\core\\tools\\datetimes.py:467\u001b[0m, in \u001b[0;36m_array_strptime_with_fallback\u001b[1;34m(arg, name, utc, fmt, exact, errors)\u001b[0m\n\u001b[0;32m    456\u001b[0m \u001b[38;5;28;01mdef\u001b[39;00m \u001b[38;5;21m_array_strptime_with_fallback\u001b[39m(\n\u001b[0;32m    457\u001b[0m     arg,\n\u001b[0;32m    458\u001b[0m     name,\n\u001b[1;32m   (...)\u001b[0m\n\u001b[0;32m    462\u001b[0m     errors: \u001b[38;5;28mstr\u001b[39m,\n\u001b[0;32m    463\u001b[0m ) \u001b[38;5;241m-\u001b[39m\u001b[38;5;241m>\u001b[39m Index:\n\u001b[0;32m    464\u001b[0m \u001b[38;5;250m    \u001b[39m\u001b[38;5;124;03m\"\"\"\u001b[39;00m\n\u001b[0;32m    465\u001b[0m \u001b[38;5;124;03m    Call array_strptime, with fallback behavior depending on 'errors'.\u001b[39;00m\n\u001b[0;32m    466\u001b[0m \u001b[38;5;124;03m    \"\"\"\u001b[39;00m\n\u001b[1;32m--> 467\u001b[0m     result, tz_out \u001b[38;5;241m=\u001b[39m array_strptime(arg, fmt, exact\u001b[38;5;241m=\u001b[39mexact, errors\u001b[38;5;241m=\u001b[39merrors, utc\u001b[38;5;241m=\u001b[39mutc)\n\u001b[0;32m    468\u001b[0m     \u001b[38;5;28;01mif\u001b[39;00m tz_out \u001b[38;5;129;01mis\u001b[39;00m \u001b[38;5;129;01mnot\u001b[39;00m \u001b[38;5;28;01mNone\u001b[39;00m:\n\u001b[0;32m    469\u001b[0m         unit \u001b[38;5;241m=\u001b[39m np\u001b[38;5;241m.\u001b[39mdatetime_data(result\u001b[38;5;241m.\u001b[39mdtype)[\u001b[38;5;241m0\u001b[39m]\n",
      "File \u001b[1;32mstrptime.pyx:501\u001b[0m, in \u001b[0;36mpandas._libs.tslibs.strptime.array_strptime\u001b[1;34m()\u001b[0m\n",
      "File \u001b[1;32mstrptime.pyx:449\u001b[0m, in \u001b[0;36mpandas._libs.tslibs.strptime.array_strptime\u001b[1;34m()\u001b[0m\n",
      "\u001b[1;31mValueError\u001b[0m: Time data 1-01-01 is not ISO8601 format, at position 4446. You might want to try:\n    - passing `format` if your strings have a consistent format;\n    - passing `format='ISO8601'` if your strings are all ISO8601 but not necessarily in exactly the same format;\n    - passing `format='mixed'`, and the format will be inferred for each element individually. You might want to use `dayfirst` alongside this."
     ]
    }
   ],
   "source": [
    "test = pd.to_datetime(df_rt['releaseDateStreaming'],format='ISO8601')"
   ]
  },
  {
   "cell_type": "code",
   "execution_count": 33,
   "id": "177468c3-9391-45df-a796-ba1aa398a407",
   "metadata": {},
   "outputs": [
    {
     "data": {
      "text/html": [
       "<div>\n",
       "<style scoped>\n",
       "    .dataframe tbody tr th:only-of-type {\n",
       "        vertical-align: middle;\n",
       "    }\n",
       "\n",
       "    .dataframe tbody tr th {\n",
       "        vertical-align: top;\n",
       "    }\n",
       "\n",
       "    .dataframe thead th {\n",
       "        text-align: right;\n",
       "    }\n",
       "</style>\n",
       "<table border=\"1\" class=\"dataframe\">\n",
       "  <thead>\n",
       "    <tr style=\"text-align: right;\">\n",
       "      <th></th>\n",
       "      <th>id</th>\n",
       "      <th>title</th>\n",
       "      <th>audienceScore</th>\n",
       "      <th>tomatoMeter</th>\n",
       "      <th>rating</th>\n",
       "      <th>ratingContents</th>\n",
       "      <th>releaseDateTheaters</th>\n",
       "      <th>releaseDateStreaming</th>\n",
       "      <th>runtimeMinutes</th>\n",
       "      <th>genre</th>\n",
       "      <th>originalLanguage</th>\n",
       "      <th>director</th>\n",
       "      <th>writer</th>\n",
       "      <th>boxOffice</th>\n",
       "      <th>distributor</th>\n",
       "      <th>soundMix</th>\n",
       "      <th>releaseYearStreaming</th>\n",
       "    </tr>\n",
       "  </thead>\n",
       "  <tbody>\n",
       "    <tr>\n",
       "      <th>101635</th>\n",
       "      <td>one_way_to_moscow</td>\n",
       "      <td>Moskau Einfach!</td>\n",
       "      <td>&lt;NA&gt;</td>\n",
       "      <td>&lt;NA&gt;</td>\n",
       "      <td>&lt;NA&gt;</td>\n",
       "      <td>&lt;NA&gt;</td>\n",
       "      <td>&lt;NA&gt;</td>\n",
       "      <td>1-01-01</td>\n",
       "      <td>93</td>\n",
       "      <td>Comedy</td>\n",
       "      <td>German</td>\n",
       "      <td>Micha Lewinsky</td>\n",
       "      <td>Micha Lewinsky</td>\n",
       "      <td>&lt;NA&gt;</td>\n",
       "      <td>&lt;NA&gt;</td>\n",
       "      <td>&lt;NA&gt;</td>\n",
       "      <td>2001.0</td>\n",
       "    </tr>\n",
       "  </tbody>\n",
       "</table>\n",
       "</div>"
      ],
      "text/plain": [
       "                       id            title  audienceScore  tomatoMeter rating  \\\n",
       "101635  one_way_to_moscow  Moskau Einfach!           <NA>         <NA>   <NA>   \n",
       "\n",
       "       ratingContents releaseDateTheaters releaseDateStreaming  \\\n",
       "101635           <NA>                <NA>              1-01-01   \n",
       "\n",
       "        runtimeMinutes   genre originalLanguage        director  \\\n",
       "101635              93  Comedy           German  Micha Lewinsky   \n",
       "\n",
       "                writer boxOffice distributor soundMix  releaseYearStreaming  \n",
       "101635  Micha Lewinsky      <NA>        <NA>     <NA>                2001.0  "
      ]
     },
     "execution_count": 33,
     "metadata": {},
     "output_type": "execute_result"
    }
   ],
   "source": [
    "df_rt[df_rt['releaseDateStreaming'] == \"1-01-01\"]"
   ]
  },
  {
   "cell_type": "code",
   "execution_count": 38,
   "id": "f8dd0b86-e319-403f-accc-4f815df8aadd",
   "metadata": {},
   "outputs": [
    {
     "data": {
      "text/plain": [
       "0    2020\n",
       "dtype: int32"
      ]
     },
     "execution_count": 38,
     "metadata": {},
     "output_type": "execute_result"
    }
   ],
   "source": [
    "pd.Series(pd.to_datetime([\"2020-01-01\"])).dt.year"
   ]
  },
  {
   "cell_type": "code",
   "execution_count": 34,
   "id": "09bbfeca-d445-4ea7-bbc7-4621e856b576",
   "metadata": {},
   "outputs": [
    {
     "data": {
      "text/plain": [
       "id                                  thalaikoothal\n",
       "title                               Thalaikoothal\n",
       "audienceScore                                <NA>\n",
       "tomatoMeter                                  <NA>\n",
       "rating                                       <NA>\n",
       "ratingContents                               <NA>\n",
       "releaseDateTheaters                          <NA>\n",
       "releaseDateStreaming                         <NA>\n",
       "runtimeMinutes                                160\n",
       "genre                                       Drama\n",
       "originalLanguage                            Tamil\n",
       "director                Jayaprakash Radhakrishnan\n",
       "writer                                       <NA>\n",
       "boxOffice                                    <NA>\n",
       "distributor                                  <NA>\n",
       "soundMix                                     <NA>\n",
       "releaseYearStreaming                          NaN\n",
       "Name: 4446, dtype: object"
      ]
     },
     "execution_count": 34,
     "metadata": {},
     "output_type": "execute_result"
    }
   ],
   "source": [
    "df_rt.loc[4446]"
   ]
  },
  {
   "cell_type": "code",
   "execution_count": 19,
   "id": "cd4e41ab-5d42-4388-a4ff-beff36ef6dbe",
   "metadata": {},
   "outputs": [
    {
     "name": "stdout",
     "output_type": "stream",
     "text": [
      "<class 'pandas.core.frame.DataFrame'>\n",
      "RangeIndex: 143258 entries, 0 to 143257\n",
      "Data columns (total 17 columns):\n",
      " #   Column                Non-Null Count   Dtype  \n",
      "---  ------                --------------   -----  \n",
      " 0   id                    143258 non-null  string \n",
      " 1   title                 142891 non-null  string \n",
      " 2   audienceScore         73248 non-null   Int64  \n",
      " 3   tomatoMeter           33877 non-null   Int64  \n",
      " 4   rating                13991 non-null   string \n",
      " 5   ratingContents        13991 non-null   string \n",
      " 6   releaseDateTheaters   30773 non-null   string \n",
      " 7   releaseDateStreaming  79420 non-null   string \n",
      " 8   runtimeMinutes        129431 non-null  Int64  \n",
      " 9   genre                 132175 non-null  string \n",
      " 10  originalLanguage      129400 non-null  string \n",
      " 11  director              139041 non-null  string \n",
      " 12  writer                90116 non-null   string \n",
      " 13  boxOffice             14743 non-null   string \n",
      " 14  distributor           23001 non-null   string \n",
      " 15  soundMix              15917 non-null   string \n",
      " 16  releaseYearStreaming  79420 non-null   float64\n",
      "dtypes: Int64(3), float64(1), string(13)\n",
      "memory usage: 19.0 MB\n"
     ]
    }
   ],
   "source": [
    "df_rt['releaseYearStreaming'] = pd.to_datetime(df_rt['releaseDateStreaming'],format='mixed').dt.year"
   ]
  },
  {
   "cell_type": "code",
   "execution_count": 20,
   "id": "11fd39fc-3e64-441a-bfc7-5616694abac9",
   "metadata": {},
   "outputs": [],
   "source": [
    "df_rt['releaseYearStreaming'] = pd.Series(df_rt['releaseYearStreaming'],dtype='int64')"
   ]
  },
  {
   "cell_type": "code",
   "execution_count": 27,
   "id": "a9055726-401a-4f22-83db-6cc065e90a4d",
   "metadata": {},
   "outputs": [
    {
     "data": {
      "text/plain": [
       "0         2018.0\n",
       "1         2020.0\n",
       "2            NaN\n",
       "3         2020.0\n",
       "4         2017.0\n",
       "           ...  \n",
       "143253       NaN\n",
       "143254       NaN\n",
       "143255       NaN\n",
       "143256    2006.0\n",
       "143257       NaN\n",
       "Name: releaseYearStreaming, Length: 143258, dtype: float64"
      ]
     },
     "execution_count": 27,
     "metadata": {},
     "output_type": "execute_result"
    }
   ],
   "source": [
    "import numpy as np\n",
    "np.round(df_rt['releaseYearStreaming'])"
   ]
  },
  {
   "cell_type": "code",
   "execution_count": 21,
   "id": "0b8eebcc-f439-4bbc-ac54-361afc1297b7",
   "metadata": {},
   "outputs": [
    {
     "data": {
      "text/html": [
       "<div>\n",
       "<style scoped>\n",
       "    .dataframe tbody tr th:only-of-type {\n",
       "        vertical-align: middle;\n",
       "    }\n",
       "\n",
       "    .dataframe tbody tr th {\n",
       "        vertical-align: top;\n",
       "    }\n",
       "\n",
       "    .dataframe thead th {\n",
       "        text-align: right;\n",
       "    }\n",
       "</style>\n",
       "<table border=\"1\" class=\"dataframe\">\n",
       "  <thead>\n",
       "    <tr style=\"text-align: right;\">\n",
       "      <th></th>\n",
       "      <th>id</th>\n",
       "      <th>title</th>\n",
       "      <th>audienceScore</th>\n",
       "      <th>tomatoMeter</th>\n",
       "      <th>rating</th>\n",
       "      <th>ratingContents</th>\n",
       "      <th>releaseDateTheaters</th>\n",
       "      <th>releaseDateStreaming</th>\n",
       "      <th>runtimeMinutes</th>\n",
       "      <th>genre</th>\n",
       "      <th>originalLanguage</th>\n",
       "      <th>director</th>\n",
       "      <th>writer</th>\n",
       "      <th>boxOffice</th>\n",
       "      <th>distributor</th>\n",
       "      <th>soundMix</th>\n",
       "      <th>releaseYearStreaming</th>\n",
       "    </tr>\n",
       "  </thead>\n",
       "  <tbody>\n",
       "    <tr>\n",
       "      <th>0</th>\n",
       "      <td>space-zombie-bingo</td>\n",
       "      <td>Space Zombie Bingo!</td>\n",
       "      <td>50</td>\n",
       "      <td>&lt;NA&gt;</td>\n",
       "      <td>&lt;NA&gt;</td>\n",
       "      <td>&lt;NA&gt;</td>\n",
       "      <td>&lt;NA&gt;</td>\n",
       "      <td>2018-08-25</td>\n",
       "      <td>75</td>\n",
       "      <td>Comedy, Horror, Sci-fi</td>\n",
       "      <td>English</td>\n",
       "      <td>George Ormrod</td>\n",
       "      <td>George Ormrod,John Sabotta</td>\n",
       "      <td>&lt;NA&gt;</td>\n",
       "      <td>&lt;NA&gt;</td>\n",
       "      <td>&lt;NA&gt;</td>\n",
       "      <td>2018.0</td>\n",
       "    </tr>\n",
       "    <tr>\n",
       "      <th>1</th>\n",
       "      <td>the_green_grass</td>\n",
       "      <td>The Green Grass</td>\n",
       "      <td>&lt;NA&gt;</td>\n",
       "      <td>&lt;NA&gt;</td>\n",
       "      <td>&lt;NA&gt;</td>\n",
       "      <td>&lt;NA&gt;</td>\n",
       "      <td>&lt;NA&gt;</td>\n",
       "      <td>2020-02-11</td>\n",
       "      <td>114</td>\n",
       "      <td>Drama</td>\n",
       "      <td>English</td>\n",
       "      <td>Tiffany Edwards</td>\n",
       "      <td>Tiffany Edwards</td>\n",
       "      <td>&lt;NA&gt;</td>\n",
       "      <td>&lt;NA&gt;</td>\n",
       "      <td>&lt;NA&gt;</td>\n",
       "      <td>2020.0</td>\n",
       "    </tr>\n",
       "    <tr>\n",
       "      <th>2</th>\n",
       "      <td>love_lies</td>\n",
       "      <td>Love, Lies</td>\n",
       "      <td>43</td>\n",
       "      <td>&lt;NA&gt;</td>\n",
       "      <td>&lt;NA&gt;</td>\n",
       "      <td>&lt;NA&gt;</td>\n",
       "      <td>&lt;NA&gt;</td>\n",
       "      <td>&lt;NA&gt;</td>\n",
       "      <td>120</td>\n",
       "      <td>Drama</td>\n",
       "      <td>Korean</td>\n",
       "      <td>Park Heung-Sik,Heung-Sik Park</td>\n",
       "      <td>Ha Young-Joon,Jeon Yun-su,Song Hye-jin</td>\n",
       "      <td>&lt;NA&gt;</td>\n",
       "      <td>&lt;NA&gt;</td>\n",
       "      <td>&lt;NA&gt;</td>\n",
       "      <td>NaN</td>\n",
       "    </tr>\n",
       "    <tr>\n",
       "      <th>3</th>\n",
       "      <td>the_sore_losers_1997</td>\n",
       "      <td>Sore Losers</td>\n",
       "      <td>60</td>\n",
       "      <td>&lt;NA&gt;</td>\n",
       "      <td>&lt;NA&gt;</td>\n",
       "      <td>&lt;NA&gt;</td>\n",
       "      <td>&lt;NA&gt;</td>\n",
       "      <td>2020-10-23</td>\n",
       "      <td>90</td>\n",
       "      <td>Action, Mystery &amp; thriller</td>\n",
       "      <td>English</td>\n",
       "      <td>John Michael McCarthy</td>\n",
       "      <td>John Michael McCarthy</td>\n",
       "      <td>&lt;NA&gt;</td>\n",
       "      <td>&lt;NA&gt;</td>\n",
       "      <td>&lt;NA&gt;</td>\n",
       "      <td>2020.0</td>\n",
       "    </tr>\n",
       "    <tr>\n",
       "      <th>4</th>\n",
       "      <td>dinosaur_island_2002</td>\n",
       "      <td>Dinosaur Island</td>\n",
       "      <td>70</td>\n",
       "      <td>&lt;NA&gt;</td>\n",
       "      <td>&lt;NA&gt;</td>\n",
       "      <td>&lt;NA&gt;</td>\n",
       "      <td>&lt;NA&gt;</td>\n",
       "      <td>2017-03-27</td>\n",
       "      <td>80</td>\n",
       "      <td>Fantasy, Adventure, Animation</td>\n",
       "      <td>English</td>\n",
       "      <td>Will Meugniot</td>\n",
       "      <td>John Loy</td>\n",
       "      <td>&lt;NA&gt;</td>\n",
       "      <td>&lt;NA&gt;</td>\n",
       "      <td>&lt;NA&gt;</td>\n",
       "      <td>2017.0</td>\n",
       "    </tr>\n",
       "  </tbody>\n",
       "</table>\n",
       "</div>"
      ],
      "text/plain": [
       "                     id                title  audienceScore  tomatoMeter  \\\n",
       "0    space-zombie-bingo  Space Zombie Bingo!             50         <NA>   \n",
       "1       the_green_grass      The Green Grass           <NA>         <NA>   \n",
       "2             love_lies           Love, Lies             43         <NA>   \n",
       "3  the_sore_losers_1997          Sore Losers             60         <NA>   \n",
       "4  dinosaur_island_2002      Dinosaur Island             70         <NA>   \n",
       "\n",
       "  rating ratingContents releaseDateTheaters releaseDateStreaming  \\\n",
       "0   <NA>           <NA>                <NA>           2018-08-25   \n",
       "1   <NA>           <NA>                <NA>           2020-02-11   \n",
       "2   <NA>           <NA>                <NA>                 <NA>   \n",
       "3   <NA>           <NA>                <NA>           2020-10-23   \n",
       "4   <NA>           <NA>                <NA>           2017-03-27   \n",
       "\n",
       "   runtimeMinutes                          genre originalLanguage  \\\n",
       "0              75         Comedy, Horror, Sci-fi          English   \n",
       "1             114                          Drama          English   \n",
       "2             120                          Drama           Korean   \n",
       "3              90     Action, Mystery & thriller          English   \n",
       "4              80  Fantasy, Adventure, Animation          English   \n",
       "\n",
       "                        director                                  writer  \\\n",
       "0                  George Ormrod              George Ormrod,John Sabotta   \n",
       "1                Tiffany Edwards                         Tiffany Edwards   \n",
       "2  Park Heung-Sik,Heung-Sik Park  Ha Young-Joon,Jeon Yun-su,Song Hye-jin   \n",
       "3          John Michael McCarthy                   John Michael McCarthy   \n",
       "4                  Will Meugniot                                John Loy   \n",
       "\n",
       "  boxOffice distributor soundMix  releaseYearStreaming  \n",
       "0      <NA>        <NA>     <NA>                2018.0  \n",
       "1      <NA>        <NA>     <NA>                2020.0  \n",
       "2      <NA>        <NA>     <NA>                   NaN  \n",
       "3      <NA>        <NA>     <NA>                2020.0  \n",
       "4      <NA>        <NA>     <NA>                2017.0  "
      ]
     },
     "execution_count": 21,
     "metadata": {},
     "output_type": "execute_result"
    }
   ],
   "source": [
    "df_rt.head()"
   ]
  },
  {
   "cell_type": "code",
   "execution_count": 5,
   "id": "c4856e96-5f7b-43fa-bcd3-f2631a6e2e0a",
   "metadata": {
    "scrolled": true
   },
   "outputs": [
    {
     "name": "stdout",
     "output_type": "stream",
     "text": [
      "<class 'pandas.core.frame.DataFrame'>\n",
      "RangeIndex: 11470477 entries, 0 to 11470476\n",
      "Data columns (total 9 columns):\n",
      " #   Column          Dtype \n",
      "---  ------          ----- \n",
      " 0   tconst          string\n",
      " 1   titleType       string\n",
      " 2   primaryTitle    string\n",
      " 3   originalTitle   string\n",
      " 4   isAdult         bool  \n",
      " 5   startYear       Int64 \n",
      " 6   endYear         Int64 \n",
      " 7   runtimeMinutes  Int64 \n",
      " 8   genres          string\n",
      "dtypes: Int64(3), bool(1), string(5)\n",
      "memory usage: 743.9 MB\n"
     ]
    }
   ],
   "source": [
    "# Change data types to correct types\n",
    "df_basics['isAdult'] = df_basics['isAdult'].astype(bool)\n",
    "df_basics['startYear']=pd.to_numeric(df_basics['startYear'], errors='coerce')\n",
    "df_basics['endYear']=pd.to_numeric(df_basics['endYear'], errors='coerce')\n",
    "df_basics['runtimeMinutes']=pd.to_numeric(df_basics['runtimeMinutes'], errors='coerce')\n",
    "df_basics.info()"
   ]
  },
  {
   "cell_type": "code",
   "execution_count": 6,
   "id": "412d43ad-264e-4873-b4cc-e06d1dc637fa",
   "metadata": {},
   "outputs": [
    {
     "name": "stdout",
     "output_type": "stream",
     "text": [
      "<class 'pandas.core.frame.DataFrame'>\n",
      "RangeIndex: 1537005 entries, 0 to 1537004\n",
      "Data columns (total 3 columns):\n",
      " #   Column         Non-Null Count    Dtype  \n",
      "---  ------         --------------    -----  \n",
      " 0   tconst         1537005 non-null  string \n",
      " 1   averageRating  1537005 non-null  Float64\n",
      " 2   numVotes       1537005 non-null  Int64  \n",
      "dtypes: Float64(1), Int64(1), string(1)\n",
      "memory usage: 38.1 MB\n"
     ]
    }
   ],
   "source": [
    "# Do the same with the ratings table\n",
    "# Load TSV file into a DataFrame, specifying tab as the separator\n",
    "df_ratings = pd.read_csv(os.path.join(path,'title.ratings.tsv'), sep='\\t')\n",
    "df_ratings = df_ratings.convert_dtypes()\n",
    "df_ratings.info()"
   ]
  },
  {
   "cell_type": "code",
   "execution_count": 7,
   "id": "ab29b999-e545-4079-8706-3669e051c04f",
   "metadata": {},
   "outputs": [
    {
     "data": {
      "text/plain": [
       "1537005"
      ]
     },
     "execution_count": 7,
     "metadata": {},
     "output_type": "execute_result"
    }
   ],
   "source": [
    "# Connect to SQLite database \n",
    "conn = sqlite3.connect('films.db') \n",
    "\n",
    "# Create a cursor object \n",
    "cur = conn.cursor() \n",
    "\n",
    "# Write the data to a sqlite table \n",
    "df_basics.to_sql('imdb_basics', conn, if_exists='replace', index=False) \n",
    "df_ratings.to_sql('imdb_ratings', conn, if_exists='replace', index=False) "
   ]
  },
  {
   "cell_type": "code",
   "execution_count": 8,
   "id": "8bde7ad1-0cd2-4a14-8604-f07393ac44a0",
   "metadata": {},
   "outputs": [
    {
     "name": "stdout",
     "output_type": "stream",
     "text": [
      "('tt0000001', 'short', 'Carmencita', 'Carmencita', 0, 1894, None, 1, 'Documentary,Short')\n",
      "('tt0000002', 'short', 'Le clown et ses chiens', 'Le clown et ses chiens', 0, 1892, None, 5, 'Animation,Short')\n",
      "('tt0000003', 'short', 'Poor Pierrot', 'Pauvre Pierrot', 0, 1892, None, 5, 'Animation,Comedy,Romance')\n",
      "('tt0000004', 'short', 'Un bon bock', 'Un bon bock', 0, 1892, None, 12, 'Animation,Short')\n",
      "('tt0000005', 'short', 'Blacksmith Scene', 'Blacksmith Scene', 0, 1893, None, 1, 'Short')\n",
      "('tt0000006', 'short', 'Chinese Opium Den', 'Chinese Opium Den', 0, 1894, None, 1, 'Short')\n",
      "('tt0000007', 'short', 'Corbett and Courtney Before the Kinetograph', 'Corbett and Courtney Before the Kinetograph', 0, 1894, None, 1, 'Short,Sport')\n",
      "('tt0000008', 'short', 'Edison Kinetoscopic Record of a Sneeze', 'Edison Kinetoscopic Record of a Sneeze', 0, 1894, None, 1, 'Documentary,Short')\n",
      "('tt0000009', 'movie', 'Miss Jerry', 'Miss Jerry', 0, 1894, None, 45, 'Romance')\n",
      "('tt0000010', 'short', 'Leaving the Factory', \"La sortie de l'usine Lumière à Lyon\", 0, 1895, None, 1, 'Documentary,Short')\n"
     ]
    }
   ],
   "source": [
    "# Check if basics dataframe was saved correctly by loading and pulling up first 10 entries\n",
    "query = \"\"\"\n",
    "        SELECT *\n",
    "        FROM imdb_basics\n",
    "        LIMIT 10;\n",
    "        \"\"\"\n",
    "for row in cur.execute(query): \n",
    "    print(row) "
   ]
  },
  {
   "cell_type": "code",
   "execution_count": 9,
   "id": "f315c8e4-61e9-44c2-87d3-e2b14c4fdd1e",
   "metadata": {},
   "outputs": [
    {
     "name": "stdout",
     "output_type": "stream",
     "text": [
      "('tt0000001', 5.7, 2133)\n",
      "('tt0000002', 5.5, 289)\n",
      "('tt0000003', 6.4, 2169)\n",
      "('tt0000004', 5.3, 184)\n",
      "('tt0000005', 6.2, 2896)\n",
      "('tt0000006', 5.0, 208)\n",
      "('tt0000007', 5.3, 901)\n",
      "('tt0000008', 5.4, 2280)\n",
      "('tt0000009', 5.3, 220)\n",
      "('tt0000010', 6.8, 7871)\n"
     ]
    }
   ],
   "source": [
    "# Check if ratings dataframe was saved correctly by loading and pulling up first 10 entries\n",
    "query = \"\"\"\n",
    "        SELECT *\n",
    "        FROM imdb_ratings\n",
    "        LIMIT 10;\n",
    "        \"\"\"\n",
    "for row in cur.execute(query): \n",
    "    print(row) "
   ]
  },
  {
   "cell_type": "markdown",
   "id": "8690c454-bd0f-491f-b5ff-2394f970d1b3",
   "metadata": {},
   "source": [
    "### Let's load Netflix original film list and add to the database"
   ]
  },
  {
   "cell_type": "markdown",
   "id": "8e156381-ac0c-42e6-876e-b8b523d785ad",
   "metadata": {},
   "source": [
    "First, I want to add the netflix data to the database so we can access everything from one place in the future."
   ]
  },
  {
   "cell_type": "code",
   "execution_count": 10,
   "id": "ec09fa89-b6c3-4738-a37e-ebd4aa8d676c",
   "metadata": {},
   "outputs": [],
   "source": [
    "# Load TSV file into a DataFrame, specifying tab as the separator\n",
    "df_netflix = pd.read_csv('netflix_og_films.csv')\n",
    "# Fix the column names before writing to the database to follow SQL syntax\n",
    "df_netflix.rename(columns={'Title': 'title', 'Release date': 'releaseDate', \n",
    "                   'Genre':'genre','Runtime':'runtime','Language':'language','Film type':'filmType'}, inplace=True)"
   ]
  },
  {
   "cell_type": "markdown",
   "id": "97fecd57-e932-497f-845b-217f5eadf6f9",
   "metadata": {},
   "source": [
    "Before we save this dataframe into the database, I want to convert runtime ('x h x min') to minutes, so that we can use this as an additional constraint when matching the title of the films to IMDB."
   ]
  },
  {
   "cell_type": "code",
   "execution_count": 11,
   "id": "8af65462-92cb-4735-922a-952f1fb849ca",
   "metadata": {},
   "outputs": [],
   "source": [
    "def hm2m(time_str):\n",
    "    \"\"\"a function to convert runtime to minutes\"\"\"\n",
    "    cuml_min = 0\n",
    "    if time_str.find('h')>0:\n",
    "        h_pos = time_str.find('h')\n",
    "        cuml_min += int(time_str[:h_pos-1])*60\n",
    "        time_str = time_str[h_pos+2:]\n",
    "    \n",
    "    if time_str.find('min')>0:\n",
    "        m_pos = time_str.find('min')\n",
    "        cuml_min += int(time_str[:m_pos-1])\n",
    "        \n",
    "    return cuml_min"
   ]
  },
  {
   "cell_type": "code",
   "execution_count": 12,
   "id": "3156391d-f29c-42b6-87e7-ecf479ba4d45",
   "metadata": {},
   "outputs": [
    {
     "data": {
      "text/html": [
       "<div>\n",
       "<style scoped>\n",
       "    .dataframe tbody tr th:only-of-type {\n",
       "        vertical-align: middle;\n",
       "    }\n",
       "\n",
       "    .dataframe tbody tr th {\n",
       "        vertical-align: top;\n",
       "    }\n",
       "\n",
       "    .dataframe thead th {\n",
       "        text-align: right;\n",
       "    }\n",
       "</style>\n",
       "<table border=\"1\" class=\"dataframe\">\n",
       "  <thead>\n",
       "    <tr style=\"text-align: right;\">\n",
       "      <th></th>\n",
       "      <th>title</th>\n",
       "      <th>releaseDate</th>\n",
       "      <th>genre</th>\n",
       "      <th>runtime</th>\n",
       "      <th>language</th>\n",
       "      <th>filmType</th>\n",
       "      <th>runtime_min</th>\n",
       "    </tr>\n",
       "  </thead>\n",
       "  <tbody>\n",
       "    <tr>\n",
       "      <th>0</th>\n",
       "      <td>Beasts of No Nation</td>\n",
       "      <td>October 16, 2015</td>\n",
       "      <td>War drama</td>\n",
       "      <td>2 h 17 min</td>\n",
       "      <td>English</td>\n",
       "      <td>Feature films</td>\n",
       "      <td>137</td>\n",
       "    </tr>\n",
       "    <tr>\n",
       "      <th>1</th>\n",
       "      <td>The Ridiculous 6</td>\n",
       "      <td>December 11, 2015</td>\n",
       "      <td>Western comedy</td>\n",
       "      <td>2 h</td>\n",
       "      <td>English</td>\n",
       "      <td>Feature films</td>\n",
       "      <td>120</td>\n",
       "    </tr>\n",
       "    <tr>\n",
       "      <th>2</th>\n",
       "      <td>Pee-wee's Big Holiday</td>\n",
       "      <td>March 18, 2016</td>\n",
       "      <td>Adventure comedy</td>\n",
       "      <td>1 h 30 min</td>\n",
       "      <td>English</td>\n",
       "      <td>Feature films</td>\n",
       "      <td>90</td>\n",
       "    </tr>\n",
       "    <tr>\n",
       "      <th>3</th>\n",
       "      <td>Special Correspondents</td>\n",
       "      <td>April 29, 2016</td>\n",
       "      <td>Satire</td>\n",
       "      <td>1 h 41 min</td>\n",
       "      <td>English</td>\n",
       "      <td>Feature films</td>\n",
       "      <td>101</td>\n",
       "    </tr>\n",
       "    <tr>\n",
       "      <th>4</th>\n",
       "      <td>The Do-Over</td>\n",
       "      <td>May 27, 2016</td>\n",
       "      <td>Action comedy</td>\n",
       "      <td>1 h 48 min</td>\n",
       "      <td>English</td>\n",
       "      <td>Feature films</td>\n",
       "      <td>108</td>\n",
       "    </tr>\n",
       "  </tbody>\n",
       "</table>\n",
       "</div>"
      ],
      "text/plain": [
       "                    title        releaseDate             genre     runtime  \\\n",
       "0     Beasts of No Nation   October 16, 2015         War drama  2 h 17 min   \n",
       "1        The Ridiculous 6  December 11, 2015    Western comedy         2 h   \n",
       "2   Pee-wee's Big Holiday     March 18, 2016  Adventure comedy  1 h 30 min   \n",
       "3  Special Correspondents     April 29, 2016            Satire  1 h 41 min   \n",
       "4             The Do-Over       May 27, 2016     Action comedy  1 h 48 min   \n",
       "\n",
       "  language       filmType  runtime_min  \n",
       "0  English  Feature films          137  \n",
       "1  English  Feature films          120  \n",
       "2  English  Feature films           90  \n",
       "3  English  Feature films          101  \n",
       "4  English  Feature films          108  "
      ]
     },
     "execution_count": 12,
     "metadata": {},
     "output_type": "execute_result"
    }
   ],
   "source": [
    "# Convert runtime that's in X h X min to minutes\n",
    "df_netflix = df_netflix.convert_dtypes() # convert to string first\n",
    "df_netflix['runtime_min']=df_netflix['runtime'].apply(hm2m) # apply the above function to the runtime column\n",
    "df_netflix.head() # check if it worked correctly"
   ]
  },
  {
   "cell_type": "code",
   "execution_count": 28,
   "id": "644a7ddd-f2d7-44c4-91c1-25012354bdc7",
   "metadata": {},
   "outputs": [],
   "source": [
    "df_netflix['releaseYear'] = df_netflix['releaseDate'].str[-4:].astype(int)"
   ]
  },
  {
   "cell_type": "code",
   "execution_count": 29,
   "id": "efe3d9ae-1f0a-4939-99ec-2fda33b8f82d",
   "metadata": {},
   "outputs": [
    {
     "data": {
      "text/html": [
       "<div>\n",
       "<style scoped>\n",
       "    .dataframe tbody tr th:only-of-type {\n",
       "        vertical-align: middle;\n",
       "    }\n",
       "\n",
       "    .dataframe tbody tr th {\n",
       "        vertical-align: top;\n",
       "    }\n",
       "\n",
       "    .dataframe thead th {\n",
       "        text-align: right;\n",
       "    }\n",
       "</style>\n",
       "<table border=\"1\" class=\"dataframe\">\n",
       "  <thead>\n",
       "    <tr style=\"text-align: right;\">\n",
       "      <th></th>\n",
       "      <th>title</th>\n",
       "      <th>releaseDate</th>\n",
       "      <th>genre</th>\n",
       "      <th>runtime</th>\n",
       "      <th>language</th>\n",
       "      <th>filmType</th>\n",
       "      <th>runtime_min</th>\n",
       "      <th>releaseYear</th>\n",
       "    </tr>\n",
       "  </thead>\n",
       "  <tbody>\n",
       "    <tr>\n",
       "      <th>0</th>\n",
       "      <td>Beasts of No Nation</td>\n",
       "      <td>October 16, 2015</td>\n",
       "      <td>War drama</td>\n",
       "      <td>2 h 17 min</td>\n",
       "      <td>English</td>\n",
       "      <td>Feature films</td>\n",
       "      <td>137</td>\n",
       "      <td>2015</td>\n",
       "    </tr>\n",
       "    <tr>\n",
       "      <th>1</th>\n",
       "      <td>The Ridiculous 6</td>\n",
       "      <td>December 11, 2015</td>\n",
       "      <td>Western comedy</td>\n",
       "      <td>2 h</td>\n",
       "      <td>English</td>\n",
       "      <td>Feature films</td>\n",
       "      <td>120</td>\n",
       "      <td>2015</td>\n",
       "    </tr>\n",
       "    <tr>\n",
       "      <th>2</th>\n",
       "      <td>Pee-wee's Big Holiday</td>\n",
       "      <td>March 18, 2016</td>\n",
       "      <td>Adventure comedy</td>\n",
       "      <td>1 h 30 min</td>\n",
       "      <td>English</td>\n",
       "      <td>Feature films</td>\n",
       "      <td>90</td>\n",
       "      <td>2016</td>\n",
       "    </tr>\n",
       "    <tr>\n",
       "      <th>3</th>\n",
       "      <td>Special Correspondents</td>\n",
       "      <td>April 29, 2016</td>\n",
       "      <td>Satire</td>\n",
       "      <td>1 h 41 min</td>\n",
       "      <td>English</td>\n",
       "      <td>Feature films</td>\n",
       "      <td>101</td>\n",
       "      <td>2016</td>\n",
       "    </tr>\n",
       "    <tr>\n",
       "      <th>4</th>\n",
       "      <td>The Do-Over</td>\n",
       "      <td>May 27, 2016</td>\n",
       "      <td>Action comedy</td>\n",
       "      <td>1 h 48 min</td>\n",
       "      <td>English</td>\n",
       "      <td>Feature films</td>\n",
       "      <td>108</td>\n",
       "      <td>2016</td>\n",
       "    </tr>\n",
       "  </tbody>\n",
       "</table>\n",
       "</div>"
      ],
      "text/plain": [
       "                    title        releaseDate             genre     runtime  \\\n",
       "0     Beasts of No Nation   October 16, 2015         War drama  2 h 17 min   \n",
       "1        The Ridiculous 6  December 11, 2015    Western comedy         2 h   \n",
       "2   Pee-wee's Big Holiday     March 18, 2016  Adventure comedy  1 h 30 min   \n",
       "3  Special Correspondents     April 29, 2016            Satire  1 h 41 min   \n",
       "4             The Do-Over       May 27, 2016     Action comedy  1 h 48 min   \n",
       "\n",
       "  language       filmType  runtime_min  releaseYear  \n",
       "0  English  Feature films          137         2015  \n",
       "1  English  Feature films          120         2015  \n",
       "2  English  Feature films           90         2016  \n",
       "3  English  Feature films          101         2016  \n",
       "4  English  Feature films          108         2016  "
      ]
     },
     "execution_count": 29,
     "metadata": {},
     "output_type": "execute_result"
    }
   ],
   "source": [
    "df_netflix.head()"
   ]
  },
  {
   "cell_type": "code",
   "execution_count": 30,
   "id": "f588b9fb-e39d-4801-bde6-dbb9b7816568",
   "metadata": {},
   "outputs": [
    {
     "name": "stdout",
     "output_type": "stream",
     "text": [
      "<class 'pandas.core.frame.DataFrame'>\n",
      "RangeIndex: 1413 entries, 0 to 1412\n",
      "Data columns (total 8 columns):\n",
      " #   Column       Non-Null Count  Dtype \n",
      "---  ------       --------------  ----- \n",
      " 0   title        1413 non-null   string\n",
      " 1   releaseDate  1413 non-null   string\n",
      " 2   genre        1065 non-null   string\n",
      " 3   runtime      1413 non-null   string\n",
      " 4   language     1413 non-null   string\n",
      " 5   filmType     1413 non-null   string\n",
      " 6   runtime_min  1413 non-null   int64 \n",
      " 7   releaseYear  1413 non-null   int64 \n",
      "dtypes: int64(2), string(6)\n",
      "memory usage: 88.4 KB\n"
     ]
    }
   ],
   "source": [
    "df_netflix.info()"
   ]
  },
  {
   "cell_type": "code",
   "execution_count": 32,
   "id": "ed9581a1-e73e-4ee5-a761-fa7cec4d96eb",
   "metadata": {},
   "outputs": [
    {
     "data": {
      "text/plain": [
       "1413"
      ]
     },
     "execution_count": 32,
     "metadata": {},
     "output_type": "execute_result"
    }
   ],
   "source": [
    "# Write the data to a sqlite table \n",
    "df_netflix.to_sql('netflix', conn, if_exists='replace', index=False) "
   ]
  },
  {
   "cell_type": "code",
   "execution_count": 33,
   "id": "a060de33-b66e-49d9-830b-af3b9d2faddb",
   "metadata": {},
   "outputs": [
    {
     "name": "stdout",
     "output_type": "stream",
     "text": [
      "['title', 'releaseDate', 'genre', 'runtime', 'language', 'filmType', 'runtime_min', 'releaseYear']\n",
      "('Beasts of No Nation', 'October 16, 2015', 'War drama', '2 h 17 min', 'English', 'Feature films', 137, 2015)\n",
      "('The Ridiculous 6', 'December 11, 2015', 'Western comedy', '2 h', 'English', 'Feature films', 120, 2015)\n",
      "(\"Pee-wee's Big Holiday\", 'March 18, 2016', 'Adventure comedy', '1 h 30 min', 'English', 'Feature films', 90, 2016)\n",
      "('Special Correspondents', 'April 29, 2016', 'Satire', '1 h 41 min', 'English', 'Feature films', 101, 2016)\n",
      "('The Do-Over', 'May 27, 2016', 'Action comedy', '1 h 48 min', 'English', 'Feature films', 108, 2016)\n",
      "('The Fundamentals of Caring', 'June 24, 2016', 'Comedy drama', '1 h 37 min', 'English', 'Feature films', 97, 2016)\n",
      "('Brahman Naman', 'July 7, 2016', 'Sex comedy', '1 h 35 min', 'English', 'Feature films', 95, 2016)\n",
      "('Rebirth', 'July 15, 2016', 'Thriller', '1 h 40 min', 'English', 'Feature films', 100, 2016)\n",
      "('Tallulah', 'July 29, 2016', 'Comedy drama', '1 h 51 min', 'English', 'Feature films', 111, 2016)\n",
      "('XOXO', 'August 26, 2016', 'Drama', '1 h 32 min', 'English', 'Feature films', 92, 2016)\n"
     ]
    }
   ],
   "source": [
    "# Read in data and list the column names and the first 10 entries\n",
    "query = \"\"\"\n",
    "        SELECT *\n",
    "        FROM netflix\n",
    "        LIMIT 10;\n",
    "        \"\"\"\n",
    "out = cur.execute(query)\n",
    "names = list(map(lambda x: x[0], cur.description))\n",
    "print(names)\n",
    "for row in out: \n",
    "    print(row) "
   ]
  },
  {
   "cell_type": "markdown",
   "id": "b565d985-5039-4058-8a12-538f31dac3b0",
   "metadata": {},
   "source": [
    "Close out the connection to SQLite database"
   ]
  },
  {
   "cell_type": "code",
   "execution_count": 34,
   "id": "fab31f26-fdab-49b3-a0c9-24fc8f999590",
   "metadata": {},
   "outputs": [],
   "source": [
    "# Close connection to SQLite database \n",
    "conn.close() "
   ]
  }
 ],
 "metadata": {
  "kernelspec": {
   "display_name": "Python 3 (ipykernel)",
   "language": "python",
   "name": "python3"
  },
  "language_info": {
   "codemirror_mode": {
    "name": "ipython",
    "version": 3
   },
   "file_extension": ".py",
   "mimetype": "text/x-python",
   "name": "python",
   "nbconvert_exporter": "python",
   "pygments_lexer": "ipython3",
   "version": "3.12.9"
  }
 },
 "nbformat": 4,
 "nbformat_minor": 5
}
